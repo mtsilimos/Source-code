{
  "nbformat": 4,
  "nbformat_minor": 0,
  "metadata": {
    "colab": {
      "provenance": [],
      "authorship_tag": "ABX9TyM0m1O8gxmrc4uhnPrnjZ8s",
      "include_colab_link": true
    },
    "kernelspec": {
      "name": "python3",
      "display_name": "Python 3"
    },
    "language_info": {
      "name": "python"
    }
  },
  "cells": [
    {
      "cell_type": "markdown",
      "metadata": {
        "id": "view-in-github",
        "colab_type": "text"
      },
      "source": [
        "<a href=\"https://colab.research.google.com/github/mtsilimos/Source-code/blob/main/Section_5.ipynb\" target=\"_parent\"><img src=\"https://colab.research.google.com/assets/colab-badge.svg\" alt=\"Open In Colab\"/></a>"
      ]
    },
    {
      "cell_type": "code",
      "source": [
        "# SECTION 5\n",
        "\n",
        "# Import libraries\n",
        "\n",
        "import pandas as pd\n",
        "import numpy as np\n",
        "from sklearn.feature_extraction.text import TfidfTransformer\n",
        "from sklearn.feature_extraction.text import CountVectorizer\n"
      ],
      "metadata": {
        "id": "2OzdccWZvzYg"
      },
      "execution_count": null,
      "outputs": []
    },
    {
      "cell_type": "code",
      "source": [
        "# Word count\n",
        "\n",
        "cv=CountVectorizer()\n",
        "word_count_vector=cv.fit_transform(corpus)\n",
        "tokens = cv.get_feature_names_out()\n",
        "print(word_count_vector.shape)\n",
        "print(tokens)\n",
        "print(len(tokens))\n",
        "print(word_count_vector.toarray())"
      ],
      "metadata": {
        "id": "QhPBW2Icv2jg"
      },
      "execution_count": null,
      "outputs": []
    },
    {
      "cell_type": "code",
      "source": [
        "# Word count in a data frame\n",
        "\n",
        "doc_names = ['Doc{:d}'.format(index) for index, _ in enumerate(word_count_vector)]\n",
        "df = pd.DataFrame(data=word_count_vector.toarray(), index=doc_names, columns=tokens)\n"
      ],
      "metadata": {
        "id": "6ztoAJwzv5tg"
      },
      "execution_count": null,
      "outputs": []
    },
    {
      "cell_type": "code",
      "source": [
        "# Calculate Term Frequency\n",
        "\n",
        "from sklearn.feature_extraction.text import TfidfVectorizer\n",
        "tfidf_vectorizer = TfidfVectorizer(use_idf=False, norm='l1')\n",
        "X = tfidf_vectorizer.fit_transform(corpus)\n",
        "df = pd.DataFrame(X.toarray(), index=doc_names,\n",
        "columns=tfidf_vectorizer.get_feature_names_out())\n",
        "df\n"
      ],
      "metadata": {
        "id": "LScSRA97v8lA"
      },
      "execution_count": null,
      "outputs": []
    },
    {
      "cell_type": "code",
      "source": [
        "# IDF weights\n",
        "\n",
        "tfidf_transformer=TfidfTransformer(smooth_idf=True,use_idf=True)\n",
        "tfidf_transformer.fit(word_count_vector)\n",
        "\n",
        "df_idf = pd.DataFrame(tfidf_transformer.idf_, index=tokens,columns=[\"idf_weights\"])\n",
        "df_idf"
      ],
      "metadata": {
        "id": "LBLVSZsxv_6r"
      },
      "execution_count": null,
      "outputs": []
    },
    {
      "cell_type": "code",
      "source": [
        "# TF-IDF Term Frequency-Inverse Document Frequency\n",
        "\n",
        "import pandas as pd\n",
        "from sklearn.feature_extraction.text import TfidfVectorizer\n",
        "\n",
        "corpus = ['The cats eat fish',\n",
        "'Leo catches fish every day',\n",
        "'Once a day I eat fish'\n",
        "]\n"
      ],
      "metadata": {
        "id": "VJ5YO289wFWI"
      },
      "execution_count": null,
      "outputs": []
    },
    {
      "cell_type": "code",
      "source": [
        "vec = TfidfVectorizer()\n",
        "tf_idf =  vec.fit_transform(corpus)\n",
        "print(pd.DataFrame(tf_idf.toarray(), columns=vec.get_feature_names_out()))\n"
      ],
      "metadata": {
        "id": "CCnn3M0mwIx5"
      },
      "execution_count": null,
      "outputs": []
    },
    {
      "cell_type": "code",
      "source": [
        "# Cosine Similarity between two TF-IDF vectors\n",
        "\n",
        "import pandas as pd\n",
        "from sklearn.feature_extraction.text import TfidfVectorizer\n",
        "\n",
        "corpus = ['The President communicates nicely with all his colleagues',\n",
        "'The President has a very close relationship with the staff']\n"
      ],
      "metadata": {
        "id": "P7k_X0_jwXr0"
      },
      "execution_count": null,
      "outputs": []
    },
    {
      "cell_type": "code",
      "source": [
        "vec = TfidfVectorizer()\n",
        "tf_idf =  vec.fit_transform(corpus)\n",
        "print(pd.DataFrame(tf_idf.toarray(), columns=vec.get_feature_names_out()))\n"
      ],
      "metadata": {
        "id": "ZsO1mYBzwa8E"
      },
      "execution_count": null,
      "outputs": []
    },
    {
      "cell_type": "code",
      "source": [
        "from sklearn.metrics.pairwise import cosine_similarity\n",
        "cosine_sim = cosine_similarity(tf_idf, tf_idf)\n",
        "print(cosine_sim)\n"
      ],
      "metadata": {
        "id": "ZTSAsaIdwh-E"
      },
      "execution_count": null,
      "outputs": []
    },
    {
      "cell_type": "code",
      "source": [
        "import plotly.express as px\n",
        "z = [[1,         0.27975559],\n",
        " [0.27975559, 1        ]]\n",
        "\n",
        "fig = px.imshow(z, text_auto=True, labels=dict(x=\"Cosine similarity\", y=\"Text\", color=\"Productivity\"),\n",
        "                x=['text1', 'text2'],\n",
        "                y=['text1', 'text2'])\n",
        "fig.show()\n"
      ],
      "metadata": {
        "id": "_UgWDP_xwlDO"
      },
      "execution_count": null,
      "outputs": []
    }
  ]
}