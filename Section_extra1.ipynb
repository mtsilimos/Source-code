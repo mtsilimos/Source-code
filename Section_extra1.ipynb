{
  "nbformat": 4,
  "nbformat_minor": 0,
  "metadata": {
    "colab": {
      "provenance": [],
      "authorship_tag": "ABX9TyO9L9wQ5IokK+1KyoK9a+PF",
      "include_colab_link": true
    },
    "kernelspec": {
      "name": "python3",
      "display_name": "Python 3"
    },
    "language_info": {
      "name": "python"
    }
  },
  "cells": [
    {
      "cell_type": "markdown",
      "metadata": {
        "id": "view-in-github",
        "colab_type": "text"
      },
      "source": [
        "<a href=\"https://colab.research.google.com/github/mtsilimos/Source-code/blob/main/Section_extra1.ipynb\" target=\"_parent\"><img src=\"https://colab.research.google.com/assets/colab-badge.svg\" alt=\"Open In Colab\"/></a>"
      ]
    },
    {
      "cell_type": "code",
      "execution_count": 3,
      "metadata": {
        "colab": {
          "base_uri": "https://localhost:8080/"
        },
        "id": "MM-GYWDcQ6rI",
        "outputId": "521bb971-bdfb-4595-b844-5d720a56da23"
      },
      "outputs": [
        {
          "output_type": "stream",
          "name": "stderr",
          "text": [
            "[nltk_data] Downloading package punkt to /root/nltk_data...\n",
            "[nltk_data]   Package punkt is already up-to-date!\n",
            "[nltk_data] Downloading package averaged_perceptron_tagger to\n",
            "[nltk_data]     /root/nltk_data...\n",
            "[nltk_data]   Unzipping taggers/averaged_perceptron_tagger.zip.\n"
          ]
        },
        {
          "output_type": "execute_result",
          "data": {
            "text/plain": [
              "[('Every', 'DT'),\n",
              " ('day', 'NN'),\n",
              " ('I', 'PRP'),\n",
              " ('make', 'VBP'),\n",
              " ('coffee', 'NN'),\n",
              " ('for', 'IN'),\n",
              " ('Lisa', 'NNP'),\n",
              " ('at', 'IN'),\n",
              " ('Duolingo', 'NNP'),\n",
              " (',', ','),\n",
              " ('located', 'VBN'),\n",
              " ('in', 'IN'),\n",
              " ('America', 'NNP'),\n",
              " (',', ','),\n",
              " ('and', 'CC'),\n",
              " ('I', 'PRP'),\n",
              " ('pay', 'VBP'),\n",
              " ('$', '$'),\n",
              " ('3', 'CD'),\n",
              " ('.', '.')]"
            ]
          },
          "metadata": {},
          "execution_count": 3
        }
      ],
      "source": [
        "import nltk\n",
        "from nltk import word_tokenize\n",
        "from nltk import pos_tag\n",
        "\n",
        "nltk.download('punkt')\n",
        "text = \"Every day I make coffee for Lisa at Duolingo, located in America, and I pay $3.\"\n",
        "tokens = word_tokenize(text)\n",
        "\n",
        "nltk.download('averaged_perceptron_tagger')\n",
        "tag=pos_tag(tokens)\n",
        "tag\n"
      ]
    },
    {
      "cell_type": "code",
      "source": [
        "import nltk\n",
        "from nltk import word_tokenize\n",
        "from nltk import pos_tag\n",
        "\n",
        "nltk.download('punkt')\n",
        "text = \"Every day I make coffee for Lisa at Duolingo, located in America, and I pay $3.\"\n",
        "tokens = word_tokenize(text)\n",
        "\n",
        "nltk.download('averaged_perceptron_tagger')\n",
        "tag=pos_tag(tokens)\n",
        "\n",
        "\n",
        "nltk.download('maxent_ne_chunker')\n",
        "nltk.download('words')\n",
        "tree= nltk.ne_chunk(tag) # pass tag (list of tagged tokens) to the function nltk.ne_chunk ( )\n",
        "print(tree)\n",
        "# Instead of tree.draw(), use tree.pretty_print() to display the tree in the console\n",
        "tree.pretty_print() # This will print the tree structure to the console"
      ],
      "metadata": {
        "colab": {
          "base_uri": "https://localhost:8080/"
        },
        "id": "3ILiGGqrRi6H",
        "outputId": "af9c842c-b193-4c14-e2bc-c377ea387bc2"
      },
      "execution_count": 7,
      "outputs": [
        {
          "output_type": "stream",
          "name": "stdout",
          "text": [
            "(S\n",
            "  Every/DT\n",
            "  day/NN\n",
            "  I/PRP\n",
            "  make/VBP\n",
            "  coffee/NN\n",
            "  for/IN\n",
            "  (PERSON Lisa/NNP)\n",
            "  at/IN\n",
            "  (ORGANIZATION Duolingo/NNP)\n",
            "  ,/,\n",
            "  located/VBN\n",
            "  in/IN\n",
            "  (GPE America/NNP)\n",
            "  ,/,\n",
            "  and/CC\n",
            "  I/PRP\n",
            "  pay/VBP\n",
            "  $/$\n",
            "  3/CD\n",
            "  ./.)\n",
            "                                                                        S                                                                          \n",
            "    ____________________________________________________________________|____________________________________________________________________       \n",
            "   |       |      |      |         |       |      |    |       |        |    |    |      |      |     |   |    |   PERSON  ORGANIZATION     GPE    \n",
            "   |       |      |      |         |       |      |    |       |        |    |    |      |      |     |   |    |     |          |            |      \n",
            "Every/DT day/NN I/PRP make/VBP coffee/NN for/IN at/IN ,/, located/VBN in/IN ,/, and/CC I/PRP pay/VBP $/$ 3/CD ./. Lisa/NNP Duolingo/NNP America/NNP\n",
            "\n"
          ]
        },
        {
          "output_type": "stream",
          "name": "stderr",
          "text": [
            "[nltk_data] Downloading package punkt to /root/nltk_data...\n",
            "[nltk_data]   Package punkt is already up-to-date!\n",
            "[nltk_data] Downloading package averaged_perceptron_tagger to\n",
            "[nltk_data]     /root/nltk_data...\n",
            "[nltk_data]   Package averaged_perceptron_tagger is already up-to-\n",
            "[nltk_data]       date!\n",
            "[nltk_data] Downloading package maxent_ne_chunker to\n",
            "[nltk_data]     /root/nltk_data...\n",
            "[nltk_data]   Package maxent_ne_chunker is already up-to-date!\n",
            "[nltk_data] Downloading package words to /root/nltk_data...\n",
            "[nltk_data]   Package words is already up-to-date!\n"
          ]
        }
      ]
    }
  ]
}