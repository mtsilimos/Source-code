{
  "nbformat": 4,
  "nbformat_minor": 0,
  "metadata": {
    "colab": {
      "provenance": [],
      "name": "Section_6_googlecolab",
      "authorship_tag": "ABX9TyMjGqZkWv39+RzXQTtI3Z5Q",
      "include_colab_link": true
    },
    "kernelspec": {
      "name": "python3",
      "display_name": "Python 3"
    },
    "language_info": {
      "name": "python"
    }
  },
  "cells": [
    {
      "cell_type": "markdown",
      "metadata": {
        "id": "view-in-github",
        "colab_type": "text"
      },
      "source": [
        "<a href=\"https://colab.research.google.com/github/mtsilimos/Source-code/blob/main/Section_6_googlecolab.ipynb\" target=\"_parent\"><img src=\"https://colab.research.google.com/assets/colab-badge.svg\" alt=\"Open In Colab\"/></a>"
      ]
    },
    {
      "cell_type": "code",
      "execution_count": null,
      "metadata": {
        "colab": {
          "base_uri": "https://localhost:8080/"
        },
        "id": "E9lkPprjJZ5s",
        "outputId": "1ec771a7-59ac-4de5-8ce1-e017da176daa"
      },
      "outputs": [
        {
          "output_type": "stream",
          "name": "stdout",
          "text": [
            "Mounted at /content/drive\n"
          ]
        }
      ],
      "source": [
        "from google.colab import drive\n",
        "drive.mount('/content/drive')"
      ]
    },
    {
      "cell_type": "code",
      "source": [
        "with open('/content/drive/My Drive/swiss.txt', 'r') as f:\n",
        "    file = f.read()\n",
        "print(file)"
      ],
      "metadata": {
        "colab": {
          "base_uri": "https://localhost:8080/"
        },
        "id": "ua8OZmcyJkve",
        "outputId": "a6084cc5-8be7-4e02-bc99-43d413697bd5"
      },
      "execution_count": null,
      "outputs": [
        {
          "output_type": "stream",
          "name": "stdout",
          "text": [
            "Switzerland needs to invest CHF13 billion a year ($14 billion), the equivalent of 2% of gross domestic product (GDP), \n",
            "over the next three decades to meet its 2050 carbon-zero goal, a study has found.\n",
            "External link by the Swiss Bankers Association (SBA) and the Boston Consulting Group (BCG), published on Thursday, \n",
            "calculated that CHF387.2 billion would have to be invested over the next 30 years to meet this objective.\n",
            "'The bulk of this investment is needed in the sectors of light road traffic, buildings and heavy road traffic,' the report said.\n",
            "BCG Managing Director Christian Schmid said the required spending would equate to roughly double Switzerland's current military outlays.\n",
            "\n"
          ]
        }
      ]
    },
    {
      "cell_type": "code",
      "source": [
        "import nltk\n",
        "nltk.download('punkt_tab')\n",
        "from nltk import word_tokenize\n",
        "from nltk import sent_tokenize\n",
        "from nltk import pos_tag\n",
        "\n",
        "\n",
        "\n",
        "sentences = sent_tokenize(file)\n",
        "sentences\n"
      ],
      "metadata": {
        "colab": {
          "base_uri": "https://localhost:8080/"
        },
        "id": "iMdyfRQgJoHO",
        "outputId": "ea2be8a9-7cc2-4cf2-8bc6-a2d26f403a0b"
      },
      "execution_count": null,
      "outputs": [
        {
          "output_type": "stream",
          "name": "stderr",
          "text": [
            "[nltk_data] Downloading package punkt_tab to /root/nltk_data...\n",
            "[nltk_data]   Unzipping tokenizers/punkt_tab.zip.\n"
          ]
        },
        {
          "output_type": "execute_result",
          "data": {
            "text/plain": [
              "['Switzerland needs to invest CHF13 billion a year ($14 billion), the equivalent of 2% of gross domestic product (GDP), \\nover the next three decades to meet its 2050 carbon-zero goal, a study has found.',\n",
              " 'External link by the Swiss Bankers Association (SBA) and the Boston Consulting Group (BCG), published on Thursday, \\ncalculated that CHF387.2 billion would have to be invested over the next 30 years to meet this objective.',\n",
              " \"'The bulk of this investment is needed in the sectors of light road traffic, buildings and heavy road traffic,' the report said.\",\n",
              " \"BCG Managing Director Christian Schmid said the required spending would equate to roughly double Switzerland's current military outlays.\"]"
            ]
          },
          "metadata": {},
          "execution_count": 4
        }
      ]
    },
    {
      "cell_type": "code",
      "source": [
        "token_sentences = [ word_tokenize(sentence) for sentence in sentences ]\n",
        "print(token_sentences)\n"
      ],
      "metadata": {
        "colab": {
          "base_uri": "https://localhost:8080/"
        },
        "id": "SbOW77FDJvD9",
        "outputId": "d67bbdf3-c157-451b-e54b-8a47d5ec1e2e"
      },
      "execution_count": null,
      "outputs": [
        {
          "output_type": "stream",
          "name": "stdout",
          "text": [
            "[['Switzerland', 'needs', 'to', 'invest', 'CHF13', 'billion', 'a', 'year', '(', '$', '14', 'billion', ')', ',', 'the', 'equivalent', 'of', '2', '%', 'of', 'gross', 'domestic', 'product', '(', 'GDP', ')', ',', 'over', 'the', 'next', 'three', 'decades', 'to', 'meet', 'its', '2050', 'carbon-zero', 'goal', ',', 'a', 'study', 'has', 'found', '.'], ['External', 'link', 'by', 'the', 'Swiss', 'Bankers', 'Association', '(', 'SBA', ')', 'and', 'the', 'Boston', 'Consulting', 'Group', '(', 'BCG', ')', ',', 'published', 'on', 'Thursday', ',', 'calculated', 'that', 'CHF387.2', 'billion', 'would', 'have', 'to', 'be', 'invested', 'over', 'the', 'next', '30', 'years', 'to', 'meet', 'this', 'objective', '.'], [\"'The\", 'bulk', 'of', 'this', 'investment', 'is', 'needed', 'in', 'the', 'sectors', 'of', 'light', 'road', 'traffic', ',', 'buildings', 'and', 'heavy', 'road', 'traffic', ',', \"'\", 'the', 'report', 'said', '.'], ['BCG', 'Managing', 'Director', 'Christian', 'Schmid', 'said', 'the', 'required', 'spending', 'would', 'equate', 'to', 'roughly', 'double', 'Switzerland', \"'s\", 'current', 'military', 'outlays', '.']]\n"
          ]
        }
      ]
    },
    {
      "cell_type": "code",
      "source": [
        "nltk.download('averaged_perceptron_tagger_eng')\n",
        "pos_sentences = [ nltk.pos_tag(sentence) for sentence in token_sentences ]\n",
        "\n",
        "print(pos_sentences)\n"
      ],
      "metadata": {
        "colab": {
          "base_uri": "https://localhost:8080/"
        },
        "id": "6wmiedveJxbf",
        "outputId": "8bbc0bff-7767-4c3f-e463-afe613468bf7"
      },
      "execution_count": null,
      "outputs": [
        {
          "output_type": "stream",
          "name": "stdout",
          "text": [
            "[[('Switzerland', 'NNP'), ('needs', 'VBZ'), ('to', 'TO'), ('invest', 'VB'), ('CHF13', 'NNP'), ('billion', 'CD'), ('a', 'DT'), ('year', 'NN'), ('(', '('), ('$', '$'), ('14', 'CD'), ('billion', 'CD'), (')', ')'), (',', ','), ('the', 'DT'), ('equivalent', 'NN'), ('of', 'IN'), ('2', 'CD'), ('%', 'NN'), ('of', 'IN'), ('gross', 'JJ'), ('domestic', 'JJ'), ('product', 'NN'), ('(', '('), ('GDP', 'NNP'), (')', ')'), (',', ','), ('over', 'IN'), ('the', 'DT'), ('next', 'JJ'), ('three', 'CD'), ('decades', 'NNS'), ('to', 'TO'), ('meet', 'VB'), ('its', 'PRP$'), ('2050', 'CD'), ('carbon-zero', 'JJ'), ('goal', 'NN'), (',', ','), ('a', 'DT'), ('study', 'NN'), ('has', 'VBZ'), ('found', 'VBN'), ('.', '.')], [('External', 'JJ'), ('link', 'NN'), ('by', 'IN'), ('the', 'DT'), ('Swiss', 'NNP'), ('Bankers', 'NNP'), ('Association', 'NNP'), ('(', '('), ('SBA', 'NNP'), (')', ')'), ('and', 'CC'), ('the', 'DT'), ('Boston', 'NNP'), ('Consulting', 'NNP'), ('Group', 'NNP'), ('(', '('), ('BCG', 'NNP'), (')', ')'), (',', ','), ('published', 'VBN'), ('on', 'IN'), ('Thursday', 'NNP'), (',', ','), ('calculated', 'VBD'), ('that', 'IN'), ('CHF387.2', 'NNP'), ('billion', 'CD'), ('would', 'MD'), ('have', 'VB'), ('to', 'TO'), ('be', 'VB'), ('invested', 'VBN'), ('over', 'IN'), ('the', 'DT'), ('next', 'JJ'), ('30', 'CD'), ('years', 'NNS'), ('to', 'TO'), ('meet', 'VB'), ('this', 'DT'), ('objective', 'NN'), ('.', '.')], [(\"'The\", 'POS'), ('bulk', 'NN'), ('of', 'IN'), ('this', 'DT'), ('investment', 'NN'), ('is', 'VBZ'), ('needed', 'VBN'), ('in', 'IN'), ('the', 'DT'), ('sectors', 'NNS'), ('of', 'IN'), ('light', 'JJ'), ('road', 'NN'), ('traffic', 'NN'), (',', ','), ('buildings', 'NNS'), ('and', 'CC'), ('heavy', 'JJ'), ('road', 'NN'), ('traffic', 'NN'), (',', ','), (\"'\", \"''\"), ('the', 'DT'), ('report', 'NN'), ('said', 'VBD'), ('.', '.')], [('BCG', 'NNP'), ('Managing', 'NNP'), ('Director', 'NNP'), ('Christian', 'NNP'), ('Schmid', 'NNP'), ('said', 'VBD'), ('the', 'DT'), ('required', 'JJ'), ('spending', 'NN'), ('would', 'MD'), ('equate', 'VB'), ('to', 'TO'), ('roughly', 'RB'), ('double', 'JJ'), ('Switzerland', 'NNP'), (\"'s\", 'POS'), ('current', 'JJ'), ('military', 'JJ'), ('outlays', 'NNS'), ('.', '.')]]\n"
          ]
        },
        {
          "output_type": "stream",
          "name": "stderr",
          "text": [
            "[nltk_data] Downloading package averaged_perceptron_tagger_eng to\n",
            "[nltk_data]     /root/nltk_data...\n",
            "[nltk_data]   Package averaged_perceptron_tagger_eng is already up-to-\n",
            "[nltk_data]       date!\n"
          ]
        }
      ]
    },
    {
      "cell_type": "code",
      "source": [
        "nltk.download('maxent_ne_chunker_tab')\n",
        "chunked_sentences = nltk.ne_chunk_sents(pos_sentences)\n",
        "nltk.download('words')\n",
        "\n",
        "for sent in chunked_sentences:\n",
        "  for chunk in sent:\n",
        "    if hasattr(chunk,'label'):\n",
        "      print(chunk)\n"
      ],
      "metadata": {
        "colab": {
          "base_uri": "https://localhost:8080/"
        },
        "id": "cZA69tbHJ3ys",
        "outputId": "09daba05-981b-4e5d-8778-e5f34a03811a"
      },
      "execution_count": null,
      "outputs": [
        {
          "output_type": "stream",
          "name": "stderr",
          "text": [
            "[nltk_data] Downloading package maxent_ne_chunker_tab to\n",
            "[nltk_data]     /root/nltk_data...\n",
            "[nltk_data]   Unzipping chunkers/maxent_ne_chunker_tab.zip.\n",
            "[nltk_data] Downloading package words to /root/nltk_data...\n"
          ]
        },
        {
          "output_type": "stream",
          "name": "stdout",
          "text": [
            "(GPE Switzerland/NNP)\n",
            "(ORGANIZATION CHF13/NNP)\n",
            "(ORGANIZATION GDP/NNP)\n",
            "(GPE Swiss/NNP)\n",
            "(ORGANIZATION SBA/NNP)\n",
            "(ORGANIZATION Boston/NNP Consulting/NNP Group/NNP)\n",
            "(ORGANIZATION BCG/NNP)\n",
            "(ORGANIZATION BCG/NNP)\n",
            "(PERSON Christian/NNP Schmid/NNP)\n",
            "(GPE Switzerland/NNP)\n"
          ]
        },
        {
          "output_type": "stream",
          "name": "stderr",
          "text": [
            "[nltk_data]   Unzipping corpora/words.zip.\n"
          ]
        }
      ]
    },
    {
      "cell_type": "code",
      "source": [
        "import collections\n",
        "import matplotlib.pyplot as plt"
      ],
      "metadata": {
        "id": "gAQGXuZKJ_LV"
      },
      "execution_count": null,
      "outputs": []
    },
    {
      "cell_type": "code",
      "source": [
        "chunked_sentences = nltk.ne_chunk_sents(pos_sentences, binary =False)\n",
        "ner_categories=collections.defaultdict(int)\n",
        "\n",
        "for sent in chunked_sentences:\n",
        "  for chunk in sent:\n",
        "    if hasattr(chunk,'label'):\n",
        "      ner_categories[chunk.label()] += 1\n",
        "      print(ner_categories)"
      ],
      "metadata": {
        "colab": {
          "base_uri": "https://localhost:8080/"
        },
        "id": "2SjKmOy_KBqk",
        "outputId": "cd8bd418-effe-40bb-d8bb-6e656739bb78"
      },
      "execution_count": null,
      "outputs": [
        {
          "output_type": "stream",
          "name": "stdout",
          "text": [
            "defaultdict(<class 'int'>, {'GPE': 1})\n",
            "defaultdict(<class 'int'>, {'GPE': 1, 'ORGANIZATION': 1})\n",
            "defaultdict(<class 'int'>, {'GPE': 1, 'ORGANIZATION': 2})\n",
            "defaultdict(<class 'int'>, {'GPE': 2, 'ORGANIZATION': 2})\n",
            "defaultdict(<class 'int'>, {'GPE': 2, 'ORGANIZATION': 3})\n",
            "defaultdict(<class 'int'>, {'GPE': 2, 'ORGANIZATION': 4})\n",
            "defaultdict(<class 'int'>, {'GPE': 2, 'ORGANIZATION': 5})\n",
            "defaultdict(<class 'int'>, {'GPE': 2, 'ORGANIZATION': 6})\n",
            "defaultdict(<class 'int'>, {'GPE': 2, 'ORGANIZATION': 6, 'PERSON': 1})\n",
            "defaultdict(<class 'int'>, {'GPE': 3, 'ORGANIZATION': 6, 'PERSON': 1})\n"
          ]
        }
      ]
    },
    {
      "cell_type": "code",
      "source": [
        "labels = list(ner_categories.keys())\n",
        "values = [ner_categories.get(list) for list in labels]\n",
        "mycolors = [\"lightblue\", \"lightpink\", \"lightyellow\"]\n",
        "plt.pie(values,labels=labels, colors = mycolors, autopct='%1.1f%%', startangle=10)\n",
        "\n",
        "plt.legend(title = \"NER CATEGORIES\", bbox_to_anchor=(1.05, 1), loc=2, borderaxespad=0)\n"
      ],
      "metadata": {
        "colab": {
          "base_uri": "https://localhost:8080/",
          "height": 423
        },
        "id": "8J19dWI_KEL9",
        "outputId": "e5e4e54c-6cb4-4da3-b90d-3865772a305f"
      },
      "execution_count": null,
      "outputs": [
        {
          "output_type": "execute_result",
          "data": {
            "text/plain": [
              "<matplotlib.legend.Legend at 0x7c1b5d6d9050>"
            ]
          },
          "metadata": {},
          "execution_count": 13
        },
        {
          "output_type": "display_data",
          "data": {
            "text/plain": [
              "<Figure size 640x480 with 1 Axes>"
            ],
            "image/png": "[encoded data removed]"
          },
          "metadata": {}
        }
      ]
    }
  ]
}