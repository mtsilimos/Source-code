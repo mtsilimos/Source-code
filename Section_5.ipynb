{
  "nbformat": 4,
  "nbformat_minor": 0,
  "metadata": {
    "colab": {
      "provenance": [],
      "authorship_tag": "ABX9TyM3UAgM2fMFVp53b4SrwrT3",
      "include_colab_link": true
    },
    "kernelspec": {
      "name": "python3",
      "display_name": "Python 3"
    },
    "language_info": {
      "name": "python"
    }
  },
  "cells": [
    {
      "cell_type": "markdown",
      "metadata": {
        "id": "view-in-github",
        "colab_type": "text"
      },
      "source": [
        "<a href=\"https://colab.research.google.com/github/mtsilimos/Source-code/blob/main/Section_5.ipynb\" target=\"_parent\"><img src=\"https://colab.research.google.com/assets/colab-badge.svg\" alt=\"Open In Colab\"/></a>"
      ]
    },
    {
      "cell_type": "code",
      "source": [
        "import pandas as pd\n",
        "import numpy as np\n",
        "from sklearn.feature_extraction.text import TfidfTransformer\n",
        "from sklearn.feature_extraction.text import CountVectorizer\n",
        "\n",
        "corpus = ['The cats eat fish',\n",
        "'Leo catches fish every day',\n",
        "'Once a day I eat fish'\n",
        "]"
      ],
      "metadata": {
        "id": "5gyciK8YwDAB"
      },
      "execution_count": null,
      "outputs": []
    },
    {
      "cell_type": "code",
      "source": [
        "# CountVectorizer\n",
        "cv=CountVectorizer()\n",
        "word_count_vector=cv.fit_transform(corpus)\n",
        "tokens = cv.get_feature_names_out()\n",
        "print(word_count_vector.shape)\n",
        "print(tokens)\n",
        "print(len(tokens))\n",
        "print(word_count_vector.toarray())"
      ],
      "metadata": {
        "id": "JUmlRd8TwGxe"
      },
      "execution_count": null,
      "outputs": []
    },
    {
      "cell_type": "code",
      "source": [
        "df = pd.DataFrame(word_count_vector.toarray(), columns=tokens)\n",
        "df"
      ],
      "metadata": {
        "id": "RQFW0Cc9wJfH"
      },
      "execution_count": null,
      "outputs": []
    },
    {
      "cell_type": "code",
      "source": [
        "# TF\n",
        "from sklearn.feature_extraction.text import TfidfVectorizer\n",
        "tfidf_vectorizer = TfidfVectorizer(use_idf=False, norm='l1')\n",
        "X = tfidf_vectorizer.fit_transform(corpus)\n",
        "df = pd.DataFrame(X.toarray(),\n",
        "columns=tfidf_vectorizer.get_feature_names_out())\n",
        "df"
      ],
      "metadata": {
        "id": "5GBf9BidwLv3"
      },
      "execution_count": null,
      "outputs": []
    },
    {
      "cell_type": "code",
      "source": [
        "# IDF\n",
        "tfidf_transformer=TfidfTransformer(smooth_idf=True,use_idf=True)\n",
        "tfidf_transformer.fit(word_count_vector)\n",
        "\n",
        "df_idf = pd.DataFrame(tfidf_transformer.idf_, index=tokens,columns=[\"idf_weights\"])\n",
        "df_idf"
      ],
      "metadata": {
        "id": "kNSbwgIywN-8"
      },
      "execution_count": null,
      "outputs": []
    },
    {
      "cell_type": "code",
      "source": [
        "# TF-IDF\n",
        "import pandas as pd\n",
        "from sklearn.feature_extraction.text import TfidfVectorizer\n",
        "\n",
        "corpus = ['The cats eat fish',\n",
        "'Leo catches fish every day',\n",
        "'Once a day I eat fish'\n",
        "]\n",
        "\n",
        "\n",
        "vec = TfidfVectorizer()\n",
        "tf_idf =  vec.fit_transform(corpus)\n",
        "print(pd.DataFrame(tf_idf.toarray(), columns=vec.get_feature_names_out()))"
      ],
      "metadata": {
        "id": "gzdOYVNFwRq6"
      },
      "execution_count": null,
      "outputs": []
    },
    {
      "cell_type": "code",
      "source": [
        "# Cosine Similarity between two TF-IDF vectors\n",
        "\n",
        "import pandas as pd\n",
        "from sklearn.feature_extraction.text import TfidfVectorizer\n",
        "\n",
        "corpus = ['The President communicates nicely with all his colleagues',\n",
        "'The President has a very close relationship with the staff']\n",
        "\n",
        "\n",
        "vec = TfidfVectorizer()\n",
        "tf_idf =  vec.fit_transform(corpus)\n",
        "print(pd.DataFrame(tf_idf.toarray(), columns=vec.get_feature_names_out()))"
      ],
      "metadata": {
        "id": "8kD_VLuhwVq5"
      },
      "execution_count": null,
      "outputs": []
    },
    {
      "cell_type": "code",
      "source": [
        "from sklearn.metrics.pairwise import cosine_similarity\n",
        "cosine_sim = cosine_similarity(tf_idf, tf_idf)\n",
        "print(cosine_sim)"
      ],
      "metadata": {
        "id": "7k_-fmhVwYDD"
      },
      "execution_count": null,
      "outputs": []
    },
    {
      "cell_type": "code",
      "source": [
        "#Visualization\n",
        "\n",
        "import plotly.express as px\n",
        "z = [[1,         0.27975559],\n",
        " [0.27975559, 1        ]]\n",
        "\n",
        "fig = px.imshow(z, text_auto=True, labels=dict(x=\"Cosine similarity\", y=\"Text\", color=\"Productivity\"),\n",
        "                x=['text1', 'text2'],\n",
        "                y=['text1', 'text2'])\n",
        "fig.show()"
      ],
      "metadata": {
        "id": "zYSMI5rMwYsa"
      },
      "execution_count": null,
      "outputs": []
    },
    {
      "cell_type": "code",
      "source": [
        "# Homework\n",
        "\n",
        "# Task 1a)\n",
        "# Apply text preprocessing (noise removal & normalisation) techniques in the following text.\n",
        "# Task 1b)\n",
        "# Calculate the TF-IDF values.\n",
        "\n",
        "text1 = '''So many people will be trying to leave at the same time, there will not be flights, the roads will be blocked, are you going to be able to get fuel for your car, your\n",
        "passport, is there going to be cash in the banking machines?'''\n",
        "text2 = '''Now some people have arrived, but they need to provide proof of his British citizenship to get an emergency travel document, a more urgent alternative to a\n",
        "passport.'''\n",
        "text3 = '''If we take the advice at face value, it means the UK and also the US government are worried that Russian action is imminent - that makes everybody want to take\n",
        "their passport and get out.'''\n",
        "\n",
        "\n",
        "# Task 2\n",
        "# Calculate and plot the cosine similarity between text1, text2, text3 and text4.\n",
        "\n",
        "text1 = 'The President communicates nicely with all his colleagues'\n",
        "text2 = 'The President has a very close relationship with the staff'\n",
        "text3 = 'The President does not want to have a meeting with the colleagues'\n",
        "text4 = 'She would like to see the President'"
      ],
      "metadata": {
        "id": "Ry-329Snwd8C"
      },
      "execution_count": null,
      "outputs": []
    }
  ]
}