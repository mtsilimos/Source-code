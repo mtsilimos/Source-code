{
  "nbformat": 4,
  "nbformat_minor": 0,
  "metadata": {
    "colab": {
      "provenance": [],
      "authorship_tag": "ABX9TyOpDYXzRzXddlzVkWmpNUGV",
      "include_colab_link": true
    },
    "kernelspec": {
      "name": "python3",
      "display_name": "Python 3"
    },
    "language_info": {
      "name": "python"
    }
  },
  "cells": [
    {
      "cell_type": "markdown",
      "metadata": {
        "id": "view-in-github",
        "colab_type": "text"
      },
      "source": [
        "<a href=\"https://colab.research.google.com/github/mtsilimos/Python-Machine-Learning-for-Beginners_-Source-code/blob/main/Lemmatizer.ipynb\" target=\"_parent\"><img src=\"https://colab.research.google.com/assets/colab-badge.svg\" alt=\"Open In Colab\"/></a>"
      ]
    },
    {
      "cell_type": "code",
      "source": [
        "from nltk import word_tokenize, pos_tag\n",
        "from nltk.stem import WordNetLemmatizer\n",
        "from nltk.corpus import wordnet\n",
        "\n",
        "\n",
        "def get_wordnet_pos(tag):\n",
        "    if tag.startswith('J'):  # Adjective\n",
        "        return wordnet.ADJ\n",
        "    elif tag.startswith('V'):  # Verb\n",
        "        return wordnet.VERB\n",
        "    elif tag.startswith('N'):  # Noun\n",
        "        return wordnet.NOUN\n",
        "    elif tag.startswith('R'):  # Adverb\n",
        "        return wordnet.ADV\n",
        "    else:\n",
        "        # Default to Noun if the tag is unknown\n",
        "        return wordnet.NOUN\n",
        "\n",
        "def auto_lemmatize(text):\n",
        "    lemmatizer = WordNetLemmatizer()\n",
        "    tokens = word_tokenize(text)\n",
        "\n",
        "\n",
        "    tagged_tokens = pos_tag(tokens)\n",
        "\n",
        "\n",
        "    lemmas = []\n",
        "    for word, tag in tagged_tokens:\n",
        "\n",
        "        wntag = get_wordnet_pos(tag)\n",
        "\n",
        "\n",
        "        lemma = lemmatizer.lemmatize(word, pos=wntag)\n",
        "        lemmas.append(lemma)\n",
        "\n",
        "    return lemmas\n",
        "\n",
        "\n",
        "sentence = \"I am a good writer, but my grammar should be better.\"\n",
        "result = auto_lemmatize(sentence)\n",
        "\n",
        "print(f\"Original: {sentence}\")\n",
        "print(f\"Tokens:   {word_tokenize(sentence)}\")  # Fixed: Print tokens directly, don't pass to auto_lemmatize\n",
        "print(f\"Lemmas:   {result}\")"
      ],
      "metadata": {
        "colab": {
          "base_uri": "https://localhost:8080/"
        },
        "id": "oqmhq5WIn45C",
        "outputId": "4860f20a-8149-4246-b3e0-3368782061dc"
      },
      "execution_count": 7,
      "outputs": [
        {
          "output_type": "stream",
          "name": "stdout",
          "text": [
            "Original: I am a good writer, but my grammar should be better.\n",
            "Tokens:   ['I', 'am', 'a', 'good', 'writer', ',', 'but', 'my', 'grammar', 'should', 'be', 'better', '.']\n",
            "Lemmas:   ['I', 'be', 'a', 'good', 'writer', ',', 'but', 'my', 'grammar', 'should', 'be', 'good', '.']\n"
          ]
        }
      ]
    }
  ]
}