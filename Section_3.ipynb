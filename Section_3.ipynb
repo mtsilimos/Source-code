{
  "nbformat": 4,
  "nbformat_minor": 0,
  "metadata": {
    "colab": {
      "provenance": [],
      "include_colab_link": true
    },
    "kernelspec": {
      "name": "python3",
      "display_name": "Python 3"
    },
    "language_info": {
      "name": "python"
    }
  },
  "cells": [
    {
      "cell_type": "markdown",
      "metadata": {
        "id": "view-in-github",
        "colab_type": "text"
      },
      "source": [
        "<a href=\"https://colab.research.google.com/github/mtsilimos/Source-code/blob/main/Section_3.ipynb\" target=\"_parent\"><img src=\"https://colab.research.google.com/assets/colab-badge.svg\" alt=\"Open In Colab\"/></a>"
      ]
    },
    {
      "cell_type": "code",
      "execution_count": null,
      "metadata": {
        "id": "ZUyf5CSMVeZV"
      },
      "outputs": [],
      "source": [
        "# SECTION 3\n",
        "\n",
        "# REMOVE DIGITS\n",
        "\n",
        "# Method 1\n",
        "\n",
        "text = \"@    I'm making 200 coffee <for> everione at #work & you're only // making coffee for    yourself  😊.?https://edition.cnn.com/\"\n",
        "text= ''.join(c for c in text if not c.isdigit())\n",
        "text\n",
        "\n"
      ]
    },
    {
      "cell_type": "code",
      "source": [
        "# Method 2\n",
        "\n",
        "text = \"@    I'm making 200 coffee <for> everione at #work & you're only // making coffee for    yourself  😊.?https://edition.cnn.com/\"\n",
        "import re\n",
        "text = re.sub(r'\\d+', '', text) # re.sub replaces one or more occurrences of the match with the replacement string\n",
        "text"
      ],
      "metadata": {
        "id": "LirQWJjjiXxp"
      },
      "execution_count": null,
      "outputs": []
    },
    {
      "cell_type": "code",
      "source": [
        "# REMOVE HYPERLINKS\n",
        "\n",
        "text = \"@    I'm making coffee <for> everione at #work & you're only // making coffee for    yourself  😊.?https://edition.cnn.com/\"\n",
        "# initialise the string\n",
        "\n",
        "import re  # import re module\n",
        "re.sub(r\"http\\S+\", \"\", text) # re.sub replaces one or more occurrences of the match with the replacement string"
      ],
      "metadata": {
        "id": "gu_Olb0rideM"
      },
      "execution_count": null,
      "outputs": []
    },
    {
      "cell_type": "code",
      "source": [
        "# EXPAND CONTRACTIONS\n",
        "\n",
        "text = \"@    I'm making  coffee <for> everione at #work & you're only // making coffee for    yourself  😊.?\"\n",
        "\n",
        "import re\n",
        "\n",
        "def decontracted(text):\n",
        "    text = re.sub(r\"\\'re\", \" are\", text) # re.sub replaces the match \\'re with are\n",
        "    text = re.sub(r\"\\'m\", \" am\", text)# re.sub replaces the match \\'m with am\n",
        "    return text\n",
        "decontracted(text)"
      ],
      "metadata": {
        "id": "sxZayCQbjXID"
      },
      "execution_count": null,
      "outputs": []
    },
    {
      "cell_type": "code",
      "source": [
        "# REMOVE PUNCTUATION & SPECIAL CHARACTERS\n",
        "\n",
        "# Method 1\n",
        "\n",
        "import string\n",
        "string.punctuation\n",
        "\n",
        "text = \"@    I am making  coffee <for> everione at #work & you are only // making coffee for    yourself  😊.?\"\n",
        "text= \"\".join(c for c in text if not c in string.punctuation)\n",
        "text\n"
      ],
      "metadata": {
        "id": "3E3MTgaSjfwi"
      },
      "execution_count": null,
      "outputs": []
    },
    {
      "cell_type": "code",
      "source": [
        "# Method 2\n",
        "\n",
        "text = \"@    I am making  coffee <for> everione at #work & you are only // making coffee for    yourself  😊.?\"\n",
        "import re\n",
        "text = re.sub(r'[^\\w\\s]','',text)\n",
        "text\n",
        "\n",
        "\n"
      ],
      "metadata": {
        "id": "VOaiWmQ1jgWU"
      },
      "execution_count": null,
      "outputs": []
    },
    {
      "cell_type": "code",
      "source": [
        "# Method 2\n",
        "\n",
        "text = \" I am making  coffee <for> everione at #work & you are only // making coffee for    yourself  .?\"\n",
        "import re\n",
        "text = re.sub(r'[^\\w\\s\\.]','',text)\n",
        "text\n"
      ],
      "metadata": {
        "id": "98LH0Mqtjg10"
      },
      "execution_count": null,
      "outputs": []
    },
    {
      "cell_type": "code",
      "source": [
        "# REMOVE LEADING AND TRAILING WHITESPACES\n",
        "\n",
        "# Method 1\n",
        "\n",
        "text = '    I am making  coffee for everione at work  you are only  making coffee for    yourself  '\n",
        "text.strip() # remove leading and trailing whitespaces from the string text\n"
      ],
      "metadata": {
        "id": "aeTriPTjjyXT"
      },
      "execution_count": null,
      "outputs": []
    },
    {
      "cell_type": "code",
      "source": [
        "# Method 2\n",
        "\n",
        "text = '    I am making  coffee for everione at work  you are only  making coffee for    yourself  '\n",
        "import re\n",
        "text= re.sub(r\"^\\s+|\\s+$\", \"\",text)\n",
        "text\n",
        "\n"
      ],
      "metadata": {
        "id": "NIpJHgwpjy-T"
      },
      "execution_count": null,
      "outputs": []
    },
    {
      "cell_type": "code",
      "source": [
        "# REMOVE ALL WHITESPACES\n",
        "\n",
        "text = '    I am making  coffee for everione at work  you are only  making coffee for    yourself  '\n",
        "\" \".join(text.split())\n"
      ],
      "metadata": {
        "id": "oPQ7johDj9hW"
      },
      "execution_count": null,
      "outputs": []
    },
    {
      "cell_type": "code",
      "source": [
        "# SPELLING CORRECTION\n",
        "\n",
        "text = 'I am making coffee for everione at work you are only making coffee for yourself'\n",
        "from autocorrect import Speller\n",
        "spell = Speller(lang='en')\n",
        "spell(text)\n"
      ],
      "metadata": {
        "id": "rP3ShGNij-SH"
      },
      "execution_count": null,
      "outputs": []
    },
    {
      "cell_type": "code",
      "source": [
        "# TOKENIZE THE TEXT INTO INDIVIDUAL ITEMS\n",
        "\n",
        "from nltk.tokenize import word_tokenize\n",
        "\n",
        "text = \"@    I'm making 200 coffee <for> everione at #work & you're only // making coffee for    yourself  😊.?https://edition.cnn.com/\"\n",
        "tokens = word_tokenize(text)\n",
        "tokens\n",
        "len(tokens)\n",
        "\n"
      ],
      "metadata": {
        "id": "ZpAmuAsWkG2W"
      },
      "execution_count": null,
      "outputs": []
    },
    {
      "cell_type": "code",
      "source": [
        "\n",
        "from nltk.tokenize import word_tokenize\n",
        "text = 'I am making coffee for everyone at work you are only making coffee for yourself'\n",
        "tokens = word_tokenize(text)\n",
        "tokens\n",
        "\n",
        "len(tokens)\n",
        "\n",
        "\n",
        "\n",
        "\n",
        "\n",
        "\n",
        "\n"
      ],
      "metadata": {
        "id": "pR6hyJG6kMMz"
      },
      "execution_count": null,
      "outputs": []
    },
    {
      "cell_type": "code",
      "source": [
        "# REMOVE NOISE IN ONE GO\n",
        "\n",
        "text = \"@    I'm making 200 coffee <for> everione at #work & you're only // making coffee for    yourself  😊.?https://edition.cnn.com/\"\n",
        "import nltk\n",
        "import string\n",
        "import re\n",
        "from autocorrect import Speller\n",
        "spell = Speller(lang='en')\n",
        "\n",
        "def clean_text(text):\n",
        "    text= ''.join(c for c in text if not c.isdigit())\n",
        "    text = re.sub(r\"http\\S+\", \"\", text)\n",
        "    text = re.sub(r\"\\'re\", \" are\", text)\n",
        "    text = re.sub(r\"\\'m\", \" am\", text)\n",
        "    text = re.sub(r'[^\\w\\s]','',text)\n",
        "    text = \" \".join(text.split())\n",
        "    text = spell(text)\n",
        "    return text\n",
        "\n",
        "\n",
        "clean_text(text)\n",
        "\n",
        "\n",
        "\n",
        "\n",
        "\n"
      ],
      "metadata": {
        "id": "CdOEmb4gkHfC"
      },
      "execution_count": null,
      "outputs": []
    },
    {
      "cell_type": "code",
      "source": [
        "# Homework\n",
        "# Apply text preprocessing techniques in the following texts.\n",
        "\n",
        "\n",
        "\n",
        "# Text 1 a) Remove special characters b) Remove digits c) Remove whitespaces\n",
        "\n",
        "text1 = '''The @Kingdomhearts series is coming to Switch. %Crown 10 lots of adventures will make their way onto\n",
        "Switch as cloud games, and will be <available> in standalone collections or as a complete set.'''\n",
        "\n",
        "\n",
        "\n",
        "# Text 2 a) Remove special characters b) Remove whitespaces\n",
        "\n",
        "text2 = '''Thanks to @twitteruk for including me in the meme of the season! Amazing that my original Dry Your\n",
        "Eyes kicked it off. Glad I put some smiles on some faces '''\n",
        "\n",
        "\n",
        "\n",
        "# Text 3 a) Remove hyperlink b) Remove special characters c) Remove whitespaces\n",
        "\n",
        "text3 = 'Marvel heroes suit up to celebrate 80 years of Captain America! https://bit.ly/3xagEBo #CaptainAmerica80 '\n",
        "\n"
      ],
      "metadata": {
        "id": "nAwJRtc1Q2tY"
      },
      "execution_count": null,
      "outputs": []
    }
  ]
}