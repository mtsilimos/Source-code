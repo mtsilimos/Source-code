{
  "nbformat": 4,
  "nbformat_minor": 0,
  "metadata": {
    "colab": {
      "provenance": [],
      "authorship_tag": "ABX9TyMqCrnWIGwcLNR1ZjiMJiwj",
      "include_colab_link": true
    },
    "kernelspec": {
      "name": "python3",
      "display_name": "Python 3"
    },
    "language_info": {
      "name": "python"
    }
  },
  "cells": [
    {
      "cell_type": "markdown",
      "metadata": {
        "id": "view-in-github",
        "colab_type": "text"
      },
      "source": [
        "<a href=\"https://colab.research.google.com/github/mtsilimos/Source-code/blob/main/Project.ipynb\" target=\"_parent\"><img src=\"https://colab.research.google.com/assets/colab-badge.svg\" alt=\"Open In Colab\"/></a>"
      ]
    },
    {
      "cell_type": "code",
      "source": [
        "import pandas as pd\n",
        "import numpy as np\n",
        "import string\n",
        "import re\n",
        "import nltk\n",
        "nltk.download('stopwords')\n",
        "from nltk.corpus import stopwords\n",
        "\n",
        "\n",
        "\n",
        "from google.colab import drive\n",
        "drive.mount('/content/drive')\n",
        "\n",
        "df = pd.read_csv('/content/drive/My Drive/movies_classes.csv')\n",
        "pd.set_option('display.max_colwidth', None)\n",
        "df"
      ],
      "metadata": {
        "id": "xid9WRuGs__T"
      },
      "execution_count": null,
      "outputs": []
    },
    {
      "cell_type": "code",
      "source": [
        "# OR\n",
        "\n",
        "df = pd.read_csv(r'C:\\Users\\mtsil\\OneDrive\\Documents\\movies.csv')\n",
        "pd.set_option('display.max_colwidth', None)\n",
        "df\n"
      ],
      "metadata": {
        "id": "qWP6JYlztHPi"
      },
      "execution_count": null,
      "outputs": []
    },
    {
      "cell_type": "code",
      "source": [
        "# text preprocessing\n",
        "\n",
        "def preprocess_text(text):\n",
        "    stop_words = stopwords.words('english')\n",
        "    text = text.lower()  # Lowercase text\n",
        "    text = re.sub(f\"[{re.escape(string.punctuation)}]\", \"\", text)  # Remove punctuation\n",
        "    # Split into words, remove stop words, and join back\n",
        "    words = [word for word in text.split() if word not in stop_words]\n",
        "    text = \" \".join(words)  # Remove extra spaces, tabs, and new lines\n",
        "    return text\n",
        "\n",
        "\n",
        "df['Movie_title'] = df['Movie_title'].apply(preprocess_text)\n",
        "\n",
        "pd.set_option('display.max_colwidth', None)\n",
        "df['Movie_title']\n",
        ""
      ],
      "metadata": {
        "id": "L5c7aeoztimr"
      },
      "execution_count": null,
      "outputs": []
    },
    {
      "cell_type": "code",
      "source": [
        "# Vectorization\n",
        "\n",
        "from sklearn.feature_extraction.text import TfidfVectorizer\n",
        "vec = TfidfVectorizer()\n",
        "tf_idf = vec.fit_transform(df['Movie_title'])\n",
        "print(pd.DataFrame(tf_idf.toarray(), columns=vec.get_feature_names_out()))"
      ],
      "metadata": {
        "id": "c7f8YKWItvLj"
      },
      "execution_count": null,
      "outputs": []
    }
  ]
}