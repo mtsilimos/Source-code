{
  "nbformat": 4,
  "nbformat_minor": 0,
  "metadata": {
    "colab": {
      "provenance": [],
      "include_colab_link": true
    },
    "kernelspec": {
      "name": "python3",
      "display_name": "Python 3"
    },
    "language_info": {
      "name": "python"
    }
  },
  "cells": [
    {
      "cell_type": "markdown",
      "metadata": {
        "id": "view-in-github",
        "colab_type": "text"
      },
      "source": [
        "<a href=\"https://colab.research.google.com/github/mtsilimos/Source-code/blob/main/Section_2.ipynb\" target=\"_parent\"><img src=\"https://colab.research.google.com/assets/colab-badge.svg\" alt=\"Open In Colab\"/></a>"
      ]
    },
    {
      "cell_type": "code",
      "source": [
        "# SECTION 2\n",
        "\n",
        "# Access the Gutenberg text corpus\n",
        "\n",
        "import nltk\n",
        "from nltk.corpus import gutenberg\n",
        "gutenberg\n",
        "\n",
        "files = gutenberg.fileids()\n",
        "files\n",
        "\n"
      ],
      "metadata": {
        "id": "X0x03bZlfrJU"
      },
      "execution_count": null,
      "outputs": []
    },
    {
      "cell_type": "code",
      "source": [
        "# Access a text file of the Gutenberg corpus\n",
        "\n",
        "with open(r'C:\\Users\\mtsil\\AppData\\Roaming\\nltk_data\\corpora\\gutenberg\\austen-emma.txt') as f:\n",
        "    data = f.read()\n",
        "    print(data)\n"
      ],
      "metadata": {
        "id": "1O9EJHklf0_0"
      },
      "execution_count": null,
      "outputs": []
    },
    {
      "cell_type": "code",
      "source": [
        "# Navigate through the text file\n",
        "\n",
        "emma_words = gutenberg.words('austen-emma.txt')\n",
        "emma_words[:20]\n",
        "\n",
        "len(emma_words)\n"
      ],
      "metadata": {
        "id": "0nXOcxKEf1j2"
      },
      "execution_count": null,
      "outputs": []
    },
    {
      "cell_type": "code",
      "source": [
        "emma_sentences = gutenberg.sents('austen-emma.txt')\n",
        "len(emma_sentences)\n",
        "\n",
        "len(emma_words)/len(emma_sentences)"
      ],
      "metadata": {
        "id": "kyaMm4h5hU54"
      },
      "execution_count": null,
      "outputs": []
    },
    {
      "cell_type": "code",
      "source": [
        "# Navigate through all text files\n",
        "\n",
        "from nltk.corpus import gutenberg\n",
        "\n",
        "for fileid in gutenberg.fileids():\n",
        "    num_words = len(gutenberg.words(fileid))\n",
        "    num_sentences = len(gutenberg.sents(fileid))\n",
        "    print(num_words/num_sentences, fileid)\n"
      ],
      "metadata": {
        "id": "VFb8xiy-gbNY"
      },
      "execution_count": null,
      "outputs": []
    },
    {
      "cell_type": "code",
      "source": [
        "# Calculate the frequency distribution\n",
        "\n",
        "from nltk.tokenize import word_tokenize\n",
        "tokens = word_tokenize(data)\n",
        "\n",
        "\n",
        "\n",
        "from nltk.probability import FreqDist\n",
        "fdist=FreqDist(tokens)\n",
        "fdist\n"
      ],
      "metadata": {
        "id": "Szhpi4xZgwdX"
      },
      "execution_count": null,
      "outputs": []
    },
    {
      "cell_type": "code",
      "source": [
        "fdist['rich']\n"
      ],
      "metadata": {
        "id": "UI4R0ObkhF3Y"
      },
      "execution_count": null,
      "outputs": []
    },
    {
      "cell_type": "code",
      "source": [
        "# Plot the frequency distribution\n",
        "\n",
        "import matplotlib.pyplot as plt\n",
        "fdist.plot(30,cumulative=False)\n",
        "\n"
      ],
      "metadata": {
        "id": "uCgrCSbWhGjZ"
      },
      "execution_count": null,
      "outputs": []
    }
  ]
}