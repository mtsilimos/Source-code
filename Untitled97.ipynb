{
  "nbformat": 4,
  "nbformat_minor": 0,
  "metadata": {
    "colab": {
      "provenance": [],
      "gpuType": "T4",
      "authorship_tag": "ABX9TyP4n5nrZsdV1Pa2DO7Ul9mh",
      "include_colab_link": true
    },
    "kernelspec": {
      "name": "python3",
      "display_name": "Python 3"
    },
    "language_info": {
      "name": "python"
    },
    "accelerator": "GPU",
    "widgets": {
      "application/vnd.jupyter.widget-state+json": {
        "366f55c971054d6194d059e5af8443ed": {
          "model_module": "@jupyter-widgets/controls",
          "model_name": "HBoxModel",
          "model_module_version": "1.5.0",
          "state": {
            "_dom_classes": [],
            "_model_module": "@jupyter-widgets/controls",
            "_model_module_version": "1.5.0",
            "_model_name": "HBoxModel",
            "_view_count": null,
            "_view_module": "@jupyter-widgets/controls",
            "_view_module_version": "1.5.0",
            "_view_name": "HBoxView",
            "box_style": "",
            "children": [
              "IPY_MODEL_19c904b4ae844e0c948baeb571003d11",
              "IPY_MODEL_ddabcc845d294cae813cad282009ee77",
              "IPY_MODEL_2fe0a6bd526a46d2b80754af98728d6c"
            ],
            "layout": "IPY_MODEL_95ac5d908b424d64aad7e59a17e1d66c"
          }
        },
        "19c904b4ae844e0c948baeb571003d11": {
          "model_module": "@jupyter-widgets/controls",
          "model_name": "HTMLModel",
          "model_module_version": "1.5.0",
          "state": {
            "_dom_classes": [],
            "_model_module": "@jupyter-widgets/controls",
            "_model_module_version": "1.5.0",
            "_model_name": "HTMLModel",
            "_view_count": null,
            "_view_module": "@jupyter-widgets/controls",
            "_view_module_version": "1.5.0",
            "_view_name": "HTMLView",
            "description": "",
            "description_tooltip": null,
            "layout": "IPY_MODEL_aefa7c84504544b793ffca024c6a1e9a",
            "placeholder": "​",
            "style": "IPY_MODEL_745d88e1e4514a7aa03244d604fbd53b",
            "value": "Loading checkpoint shards: 100%"
          }
        },
        "ddabcc845d294cae813cad282009ee77": {
          "model_module": "@jupyter-widgets/controls",
          "model_name": "FloatProgressModel",
          "model_module_version": "1.5.0",
          "state": {
            "_dom_classes": [],
            "_model_module": "@jupyter-widgets/controls",
            "_model_module_version": "1.5.0",
            "_model_name": "FloatProgressModel",
            "_view_count": null,
            "_view_module": "@jupyter-widgets/controls",
            "_view_module_version": "1.5.0",
            "_view_name": "ProgressView",
            "bar_style": "success",
            "description": "",
            "description_tooltip": null,
            "layout": "IPY_MODEL_8349d7dfecab406e9d02675cf1f5f91b",
            "max": 2,
            "min": 0,
            "orientation": "horizontal",
            "style": "IPY_MODEL_235a6aa65bd94a4980872cea6455dec6",
            "value": 2
          }
        },
        "2fe0a6bd526a46d2b80754af98728d6c": {
          "model_module": "@jupyter-widgets/controls",
          "model_name": "HTMLModel",
          "model_module_version": "1.5.0",
          "state": {
            "_dom_classes": [],
            "_model_module": "@jupyter-widgets/controls",
            "_model_module_version": "1.5.0",
            "_model_name": "HTMLModel",
            "_view_count": null,
            "_view_module": "@jupyter-widgets/controls",
            "_view_module_version": "1.5.0",
            "_view_name": "HTMLView",
            "description": "",
            "description_tooltip": null,
            "layout": "IPY_MODEL_c55822ef314b4deb88ca5bdd8874ba83",
            "placeholder": "​",
            "style": "IPY_MODEL_903a0976772d45a9873a57504ea95d45",
            "value": " 2/2 [00:24&lt;00:00, 10.98s/it]"
          }
        },
        "95ac5d908b424d64aad7e59a17e1d66c": {
          "model_module": "@jupyter-widgets/base",
          "model_name": "LayoutModel",
          "model_module_version": "1.2.0",
          "state": {
            "_model_module": "@jupyter-widgets/base",
            "_model_module_version": "1.2.0",
            "_model_name": "LayoutModel",
            "_view_count": null,
            "_view_module": "@jupyter-widgets/base",
            "_view_module_version": "1.2.0",
            "_view_name": "LayoutView",
            "align_content": null,
            "align_items": null,
            "align_self": null,
            "border": null,
            "bottom": null,
            "display": null,
            "flex": null,
            "flex_flow": null,
            "grid_area": null,
            "grid_auto_columns": null,
            "grid_auto_flow": null,
            "grid_auto_rows": null,
            "grid_column": null,
            "grid_gap": null,
            "grid_row": null,
            "grid_template_areas": null,
            "grid_template_columns": null,
            "grid_template_rows": null,
            "height": null,
            "justify_content": null,
            "justify_items": null,
            "left": null,
            "margin": null,
            "max_height": null,
            "max_width": null,
            "min_height": null,
            "min_width": null,
            "object_fit": null,
            "object_position": null,
            "order": null,
            "overflow": null,
            "overflow_x": null,
            "overflow_y": null,
            "padding": null,
            "right": null,
            "top": null,
            "visibility": null,
            "width": null
          }
        },
        "aefa7c84504544b793ffca024c6a1e9a": {
          "model_module": "@jupyter-widgets/base",
          "model_name": "LayoutModel",
          "model_module_version": "1.2.0",
          "state": {
            "_model_module": "@jupyter-widgets/base",
            "_model_module_version": "1.2.0",
            "_model_name": "LayoutModel",
            "_view_count": null,
            "_view_module": "@jupyter-widgets/base",
            "_view_module_version": "1.2.0",
            "_view_name": "LayoutView",
            "align_content": null,
            "align_items": null,
            "align_self": null,
            "border": null,
            "bottom": null,
            "display": null,
            "flex": null,
            "flex_flow": null,
            "grid_area": null,
            "grid_auto_columns": null,
            "grid_auto_flow": null,
            "grid_auto_rows": null,
            "grid_column": null,
            "grid_gap": null,
            "grid_row": null,
            "grid_template_areas": null,
            "grid_template_columns": null,
            "grid_template_rows": null,
            "height": null,
            "justify_content": null,
            "justify_items": null,
            "left": null,
            "margin": null,
            "max_height": null,
            "max_width": null,
            "min_height": null,
            "min_width": null,
            "object_fit": null,
            "object_position": null,
            "order": null,
            "overflow": null,
            "overflow_x": null,
            "overflow_y": null,
            "padding": null,
            "right": null,
            "top": null,
            "visibility": null,
            "width": null
          }
        },
        "745d88e1e4514a7aa03244d604fbd53b": {
          "model_module": "@jupyter-widgets/controls",
          "model_name": "DescriptionStyleModel",
          "model_module_version": "1.5.0",
          "state": {
            "_model_module": "@jupyter-widgets/controls",
            "_model_module_version": "1.5.0",
            "_model_name": "DescriptionStyleModel",
            "_view_count": null,
            "_view_module": "@jupyter-widgets/base",
            "_view_module_version": "1.2.0",
            "_view_name": "StyleView",
            "description_width": ""
          }
        },
        "8349d7dfecab406e9d02675cf1f5f91b": {
          "model_module": "@jupyter-widgets/base",
          "model_name": "LayoutModel",
          "model_module_version": "1.2.0",
          "state": {
            "_model_module": "@jupyter-widgets/base",
            "_model_module_version": "1.2.0",
            "_model_name": "LayoutModel",
            "_view_count": null,
            "_view_module": "@jupyter-widgets/base",
            "_view_module_version": "1.2.0",
            "_view_name": "LayoutView",
            "align_content": null,
            "align_items": null,
            "align_self": null,
            "border": null,
            "bottom": null,
            "display": null,
            "flex": null,
            "flex_flow": null,
            "grid_area": null,
            "grid_auto_columns": null,
            "grid_auto_flow": null,
            "grid_auto_rows": null,
            "grid_column": null,
            "grid_gap": null,
            "grid_row": null,
            "grid_template_areas": null,
            "grid_template_columns": null,
            "grid_template_rows": null,
            "height": null,
            "justify_content": null,
            "justify_items": null,
            "left": null,
            "margin": null,
            "max_height": null,
            "max_width": null,
            "min_height": null,
            "min_width": null,
            "object_fit": null,
            "object_position": null,
            "order": null,
            "overflow": null,
            "overflow_x": null,
            "overflow_y": null,
            "padding": null,
            "right": null,
            "top": null,
            "visibility": null,
            "width": null
          }
        },
        "235a6aa65bd94a4980872cea6455dec6": {
          "model_module": "@jupyter-widgets/controls",
          "model_name": "ProgressStyleModel",
          "model_module_version": "1.5.0",
          "state": {
            "_model_module": "@jupyter-widgets/controls",
            "_model_module_version": "1.5.0",
            "_model_name": "ProgressStyleModel",
            "_view_count": null,
            "_view_module": "@jupyter-widgets/base",
            "_view_module_version": "1.2.0",
            "_view_name": "StyleView",
            "bar_color": null,
            "description_width": ""
          }
        },
        "c55822ef314b4deb88ca5bdd8874ba83": {
          "model_module": "@jupyter-widgets/base",
          "model_name": "LayoutModel",
          "model_module_version": "1.2.0",
          "state": {
            "_model_module": "@jupyter-widgets/base",
            "_model_module_version": "1.2.0",
            "_model_name": "LayoutModel",
            "_view_count": null,
            "_view_module": "@jupyter-widgets/base",
            "_view_module_version": "1.2.0",
            "_view_name": "LayoutView",
            "align_content": null,
            "align_items": null,
            "align_self": null,
            "border": null,
            "bottom": null,
            "display": null,
            "flex": null,
            "flex_flow": null,
            "grid_area": null,
            "grid_auto_columns": null,
            "grid_auto_flow": null,
            "grid_auto_rows": null,
            "grid_column": null,
            "grid_gap": null,
            "grid_row": null,
            "grid_template_areas": null,
            "grid_template_columns": null,
            "grid_template_rows": null,
            "height": null,
            "justify_content": null,
            "justify_items": null,
            "left": null,
            "margin": null,
            "max_height": null,
            "max_width": null,
            "min_height": null,
            "min_width": null,
            "object_fit": null,
            "object_position": null,
            "order": null,
            "overflow": null,
            "overflow_x": null,
            "overflow_y": null,
            "padding": null,
            "right": null,
            "top": null,
            "visibility": null,
            "width": null
          }
        },
        "903a0976772d45a9873a57504ea95d45": {
          "model_module": "@jupyter-widgets/controls",
          "model_name": "DescriptionStyleModel",
          "model_module_version": "1.5.0",
          "state": {
            "_model_module": "@jupyter-widgets/controls",
            "_model_module_version": "1.5.0",
            "_model_name": "DescriptionStyleModel",
            "_view_count": null,
            "_view_module": "@jupyter-widgets/base",
            "_view_module_version": "1.2.0",
            "_view_name": "StyleView",
            "description_width": ""
          }
        },
        "2a0cac123cd541dfb1741591485ec312": {
          "model_module": "@jupyter-widgets/controls",
          "model_name": "HBoxModel",
          "model_module_version": "1.5.0",
          "state": {
            "_dom_classes": [],
            "_model_module": "@jupyter-widgets/controls",
            "_model_module_version": "1.5.0",
            "_model_name": "HBoxModel",
            "_view_count": null,
            "_view_module": "@jupyter-widgets/controls",
            "_view_module_version": "1.5.0",
            "_view_name": "HBoxView",
            "box_style": "",
            "children": [
              "IPY_MODEL_cd7896bf4a514d62983e085a54067796",
              "IPY_MODEL_6885047ab237493a8d5700273e2db1c4",
              "IPY_MODEL_bb0ced39262042e48a630b4762c02f40"
            ],
            "layout": "IPY_MODEL_d418db2e115a43cab3800020b62fb6e2"
          }
        },
        "cd7896bf4a514d62983e085a54067796": {
          "model_module": "@jupyter-widgets/controls",
          "model_name": "HTMLModel",
          "model_module_version": "1.5.0",
          "state": {
            "_dom_classes": [],
            "_model_module": "@jupyter-widgets/controls",
            "_model_module_version": "1.5.0",
            "_model_name": "HTMLModel",
            "_view_count": null,
            "_view_module": "@jupyter-widgets/controls",
            "_view_module_version": "1.5.0",
            "_view_name": "HTMLView",
            "description": "",
            "description_tooltip": null,
            "layout": "IPY_MODEL_0244499491c54ed9a41520a74738d7a7",
            "placeholder": "​",
            "style": "IPY_MODEL_60e1670980c6434583f67dfd77d85fda",
            "value": "generation_config.json: 100%"
          }
        },
        "6885047ab237493a8d5700273e2db1c4": {
          "model_module": "@jupyter-widgets/controls",
          "model_name": "FloatProgressModel",
          "model_module_version": "1.5.0",
          "state": {
            "_dom_classes": [],
            "_model_module": "@jupyter-widgets/controls",
            "_model_module_version": "1.5.0",
            "_model_name": "FloatProgressModel",
            "_view_count": null,
            "_view_module": "@jupyter-widgets/controls",
            "_view_module_version": "1.5.0",
            "_view_name": "ProgressView",
            "bar_style": "success",
            "description": "",
            "description_tooltip": null,
            "layout": "IPY_MODEL_802a74710cbc46428bf1f66ef504db2a",
            "max": 189,
            "min": 0,
            "orientation": "horizontal",
            "style": "IPY_MODEL_eaa274641eb140e0a0eebce5d76a5d04",
            "value": 189
          }
        },
        "bb0ced39262042e48a630b4762c02f40": {
          "model_module": "@jupyter-widgets/controls",
          "model_name": "HTMLModel",
          "model_module_version": "1.5.0",
          "state": {
            "_dom_classes": [],
            "_model_module": "@jupyter-widgets/controls",
            "_model_module_version": "1.5.0",
            "_model_name": "HTMLModel",
            "_view_count": null,
            "_view_module": "@jupyter-widgets/controls",
            "_view_module_version": "1.5.0",
            "_view_name": "HTMLView",
            "description": "",
            "description_tooltip": null,
            "layout": "IPY_MODEL_10cf1b65e938493abe40d1f6c0fa6b60",
            "placeholder": "​",
            "style": "IPY_MODEL_7c3f1f5747104e05a9ea52e40035dcab",
            "value": " 189/189 [00:00&lt;00:00, 12.8kB/s]"
          }
        },
        "d418db2e115a43cab3800020b62fb6e2": {
          "model_module": "@jupyter-widgets/base",
          "model_name": "LayoutModel",
          "model_module_version": "1.2.0",
          "state": {
            "_model_module": "@jupyter-widgets/base",
            "_model_module_version": "1.2.0",
            "_model_name": "LayoutModel",
            "_view_count": null,
            "_view_module": "@jupyter-widgets/base",
            "_view_module_version": "1.2.0",
            "_view_name": "LayoutView",
            "align_content": null,
            "align_items": null,
            "align_self": null,
            "border": null,
            "bottom": null,
            "display": null,
            "flex": null,
            "flex_flow": null,
            "grid_area": null,
            "grid_auto_columns": null,
            "grid_auto_flow": null,
            "grid_auto_rows": null,
            "grid_column": null,
            "grid_gap": null,
            "grid_row": null,
            "grid_template_areas": null,
            "grid_template_columns": null,
            "grid_template_rows": null,
            "height": null,
            "justify_content": null,
            "justify_items": null,
            "left": null,
            "margin": null,
            "max_height": null,
            "max_width": null,
            "min_height": null,
            "min_width": null,
            "object_fit": null,
            "object_position": null,
            "order": null,
            "overflow": null,
            "overflow_x": null,
            "overflow_y": null,
            "padding": null,
            "right": null,
            "top": null,
            "visibility": null,
            "width": null
          }
        },
        "0244499491c54ed9a41520a74738d7a7": {
          "model_module": "@jupyter-widgets/base",
          "model_name": "LayoutModel",
          "model_module_version": "1.2.0",
          "state": {
            "_model_module": "@jupyter-widgets/base",
            "_model_module_version": "1.2.0",
            "_model_name": "LayoutModel",
            "_view_count": null,
            "_view_module": "@jupyter-widgets/base",
            "_view_module_version": "1.2.0",
            "_view_name": "LayoutView",
            "align_content": null,
            "align_items": null,
            "align_self": null,
            "border": null,
            "bottom": null,
            "display": null,
            "flex": null,
            "flex_flow": null,
            "grid_area": null,
            "grid_auto_columns": null,
            "grid_auto_flow": null,
            "grid_auto_rows": null,
            "grid_column": null,
            "grid_gap": null,
            "grid_row": null,
            "grid_template_areas": null,
            "grid_template_columns": null,
            "grid_template_rows": null,
            "height": null,
            "justify_content": null,
            "justify_items": null,
            "left": null,
            "margin": null,
            "max_height": null,
            "max_width": null,
            "min_height": null,
            "min_width": null,
            "object_fit": null,
            "object_position": null,
            "order": null,
            "overflow": null,
            "overflow_x": null,
            "overflow_y": null,
            "padding": null,
            "right": null,
            "top": null,
            "visibility": null,
            "width": null
          }
        },
        "60e1670980c6434583f67dfd77d85fda": {
          "model_module": "@jupyter-widgets/controls",
          "model_name": "DescriptionStyleModel",
          "model_module_version": "1.5.0",
          "state": {
            "_model_module": "@jupyter-widgets/controls",
            "_model_module_version": "1.5.0",
            "_model_name": "DescriptionStyleModel",
            "_view_count": null,
            "_view_module": "@jupyter-widgets/base",
            "_view_module_version": "1.2.0",
            "_view_name": "StyleView",
            "description_width": ""
          }
        },
        "802a74710cbc46428bf1f66ef504db2a": {
          "model_module": "@jupyter-widgets/base",
          "model_name": "LayoutModel",
          "model_module_version": "1.2.0",
          "state": {
            "_model_module": "@jupyter-widgets/base",
            "_model_module_version": "1.2.0",
            "_model_name": "LayoutModel",
            "_view_count": null,
            "_view_module": "@jupyter-widgets/base",
            "_view_module_version": "1.2.0",
            "_view_name": "LayoutView",
            "align_content": null,
            "align_items": null,
            "align_self": null,
            "border": null,
            "bottom": null,
            "display": null,
            "flex": null,
            "flex_flow": null,
            "grid_area": null,
            "grid_auto_columns": null,
            "grid_auto_flow": null,
            "grid_auto_rows": null,
            "grid_column": null,
            "grid_gap": null,
            "grid_row": null,
            "grid_template_areas": null,
            "grid_template_columns": null,
            "grid_template_rows": null,
            "height": null,
            "justify_content": null,
            "justify_items": null,
            "left": null,
            "margin": null,
            "max_height": null,
            "max_width": null,
            "min_height": null,
            "min_width": null,
            "object_fit": null,
            "object_position": null,
            "order": null,
            "overflow": null,
            "overflow_x": null,
            "overflow_y": null,
            "padding": null,
            "right": null,
            "top": null,
            "visibility": null,
            "width": null
          }
        },
        "eaa274641eb140e0a0eebce5d76a5d04": {
          "model_module": "@jupyter-widgets/controls",
          "model_name": "ProgressStyleModel",
          "model_module_version": "1.5.0",
          "state": {
            "_model_module": "@jupyter-widgets/controls",
            "_model_module_version": "1.5.0",
            "_model_name": "ProgressStyleModel",
            "_view_count": null,
            "_view_module": "@jupyter-widgets/base",
            "_view_module_version": "1.2.0",
            "_view_name": "StyleView",
            "bar_color": null,
            "description_width": ""
          }
        },
        "10cf1b65e938493abe40d1f6c0fa6b60": {
          "model_module": "@jupyter-widgets/base",
          "model_name": "LayoutModel",
          "model_module_version": "1.2.0",
          "state": {
            "_model_module": "@jupyter-widgets/base",
            "_model_module_version": "1.2.0",
            "_model_name": "LayoutModel",
            "_view_count": null,
            "_view_module": "@jupyter-widgets/base",
            "_view_module_version": "1.2.0",
            "_view_name": "LayoutView",
            "align_content": null,
            "align_items": null,
            "align_self": null,
            "border": null,
            "bottom": null,
            "display": null,
            "flex": null,
            "flex_flow": null,
            "grid_area": null,
            "grid_auto_columns": null,
            "grid_auto_flow": null,
            "grid_auto_rows": null,
            "grid_column": null,
            "grid_gap": null,
            "grid_row": null,
            "grid_template_areas": null,
            "grid_template_columns": null,
            "grid_template_rows": null,
            "height": null,
            "justify_content": null,
            "justify_items": null,
            "left": null,
            "margin": null,
            "max_height": null,
            "max_width": null,
            "min_height": null,
            "min_width": null,
            "object_fit": null,
            "object_position": null,
            "order": null,
            "overflow": null,
            "overflow_x": null,
            "overflow_y": null,
            "padding": null,
            "right": null,
            "top": null,
            "visibility": null,
            "width": null
          }
        },
        "7c3f1f5747104e05a9ea52e40035dcab": {
          "model_module": "@jupyter-widgets/controls",
          "model_name": "DescriptionStyleModel",
          "model_module_version": "1.5.0",
          "state": {
            "_model_module": "@jupyter-widgets/controls",
            "_model_module_version": "1.5.0",
            "_model_name": "DescriptionStyleModel",
            "_view_count": null,
            "_view_module": "@jupyter-widgets/base",
            "_view_module_version": "1.2.0",
            "_view_name": "StyleView",
            "description_width": ""
          }
        }
      }
    }
  },
  "cells": [
    {
      "cell_type": "markdown",
      "metadata": {
        "id": "view-in-github",
        "colab_type": "text"
      },
      "source": [
        "<a href=\"https://colab.research.google.com/github/mtsilimos/Source-code/blob/main/Untitled97.ipynb\" target=\"_parent\"><img src=\"https://colab.research.google.com/assets/colab-badge.svg\" alt=\"Open In Colab\"/></a>"
      ]
    },
    {
      "cell_type": "code",
      "execution_count": 2,
      "metadata": {
        "id": "DwGziao7pCX0"
      },
      "outputs": [],
      "source": [
        "import torch\n",
        "from transformers import AutoTokenizer, AutoModelForCausalLM"
      ]
    },
    {
      "cell_type": "code",
      "source": [
        "model_name = \"hugging-quants/Meta-Llama-3.1-8B-Instruct-AWQ-INT4\"\n",
        "tokenizer = AutoTokenizer.from_pretrained(model_name)"
      ],
      "metadata": {
        "colab": {
          "base_uri": "https://localhost:8080/"
        },
        "id": "ooKZdRtTpIYG",
        "outputId": "92eb38e3-f838-47bf-bfbd-46e6abf1b68f"
      },
      "execution_count": 3,
      "outputs": [
        {
          "output_type": "stream",
          "name": "stderr",
          "text": [
            "/usr/local/lib/python3.10/dist-packages/huggingface_hub/utils/_token.py:89: UserWarning: \n",
            "The secret `HF_TOKEN` does not exist in your Colab secrets.\n",
            "To authenticate with the Hugging Face Hub, create a token in your settings tab (https://huggingface.co/settings/tokens), set it as secret in your Google Colab and restart your session.\n",
            "You will be able to reuse this secret in all of your notebooks.\n",
            "Please note that authentication is recommended but still optional to access public models or datasets.\n",
            "  warnings.warn(\n"
          ]
        }
      ]
    },
    {
      "cell_type": "code",
      "source": [
        "!pip install autoawq"
      ],
      "metadata": {
        "colab": {
          "base_uri": "https://localhost:8080/",
          "height": 1000
        },
        "id": "puWgIom2pojv",
        "outputId": "322a548f-0159-49e0-a65a-d08c107bb5ef"
      },
      "execution_count": 4,
      "outputs": [
        {
          "output_type": "stream",
          "name": "stdout",
          "text": [
            "Collecting autoawq\n",
            "  Downloading autoawq-0.2.6-cp310-cp310-manylinux2014_x86_64.whl.metadata (18 kB)\n",
            "Collecting torch==2.3.1 (from autoawq)\n",
            "  Downloading torch-2.3.1-cp310-cp310-manylinux1_x86_64.whl.metadata (26 kB)\n",
            "Requirement already satisfied: transformers>=4.35.0 in /usr/local/lib/python3.10/dist-packages (from autoawq) (4.44.2)\n",
            "Requirement already satisfied: tokenizers>=0.12.1 in /usr/local/lib/python3.10/dist-packages (from autoawq) (0.19.1)\n",
            "Requirement already satisfied: typing-extensions>=4.8.0 in /usr/local/lib/python3.10/dist-packages (from autoawq) (4.12.2)\n",
            "Requirement already satisfied: accelerate in /usr/local/lib/python3.10/dist-packages (from autoawq) (0.34.2)\n",
            "Collecting datasets (from autoawq)\n",
            "  Downloading datasets-3.0.1-py3-none-any.whl.metadata (20 kB)\n",
            "Collecting zstandard (from autoawq)\n",
            "  Downloading zstandard-0.23.0-cp310-cp310-manylinux_2_17_x86_64.manylinux2014_x86_64.whl.metadata (3.0 kB)\n",
            "Collecting autoawq-kernels (from autoawq)\n",
            "  Downloading autoawq_kernels-0.0.8-cp310-cp310-manylinux2014_x86_64.whl.metadata (2.4 kB)\n",
            "Requirement already satisfied: filelock in /usr/local/lib/python3.10/dist-packages (from torch==2.3.1->autoawq) (3.16.1)\n",
            "Requirement already satisfied: sympy in /usr/local/lib/python3.10/dist-packages (from torch==2.3.1->autoawq) (1.13.3)\n",
            "Requirement already satisfied: networkx in /usr/local/lib/python3.10/dist-packages (from torch==2.3.1->autoawq) (3.3)\n",
            "Requirement already satisfied: jinja2 in /usr/local/lib/python3.10/dist-packages (from torch==2.3.1->autoawq) (3.1.4)\n",
            "Requirement already satisfied: fsspec in /usr/local/lib/python3.10/dist-packages (from torch==2.3.1->autoawq) (2024.6.1)\n",
            "Collecting nvidia-cuda-nvrtc-cu12==12.1.105 (from torch==2.3.1->autoawq)\n",
            "  Downloading nvidia_cuda_nvrtc_cu12-12.1.105-py3-none-manylinux1_x86_64.whl.metadata (1.5 kB)\n",
            "Collecting nvidia-cuda-runtime-cu12==12.1.105 (from torch==2.3.1->autoawq)\n",
            "  Downloading nvidia_cuda_runtime_cu12-12.1.105-py3-none-manylinux1_x86_64.whl.metadata (1.5 kB)\n",
            "Collecting nvidia-cuda-cupti-cu12==12.1.105 (from torch==2.3.1->autoawq)\n",
            "  Downloading nvidia_cuda_cupti_cu12-12.1.105-py3-none-manylinux1_x86_64.whl.metadata (1.6 kB)\n",
            "Collecting nvidia-cudnn-cu12==8.9.2.26 (from torch==2.3.1->autoawq)\n",
            "  Downloading nvidia_cudnn_cu12-8.9.2.26-py3-none-manylinux1_x86_64.whl.metadata (1.6 kB)\n",
            "Collecting nvidia-cublas-cu12==12.1.3.1 (from torch==2.3.1->autoawq)\n",
            "  Downloading nvidia_cublas_cu12-12.1.3.1-py3-none-manylinux1_x86_64.whl.metadata (1.5 kB)\n",
            "Collecting nvidia-cufft-cu12==11.0.2.54 (from torch==2.3.1->autoawq)\n",
            "  Downloading nvidia_cufft_cu12-11.0.2.54-py3-none-manylinux1_x86_64.whl.metadata (1.5 kB)\n",
            "Collecting nvidia-curand-cu12==10.3.2.106 (from torch==2.3.1->autoawq)\n",
            "  Downloading nvidia_curand_cu12-10.3.2.106-py3-none-manylinux1_x86_64.whl.metadata (1.5 kB)\n",
            "Collecting nvidia-cusolver-cu12==11.4.5.107 (from torch==2.3.1->autoawq)\n",
            "  Downloading nvidia_cusolver_cu12-11.4.5.107-py3-none-manylinux1_x86_64.whl.metadata (1.6 kB)\n",
            "Collecting nvidia-cusparse-cu12==12.1.0.106 (from torch==2.3.1->autoawq)\n",
            "  Downloading nvidia_cusparse_cu12-12.1.0.106-py3-none-manylinux1_x86_64.whl.metadata (1.6 kB)\n",
            "Collecting nvidia-nccl-cu12==2.20.5 (from torch==2.3.1->autoawq)\n",
            "  Downloading nvidia_nccl_cu12-2.20.5-py3-none-manylinux2014_x86_64.whl.metadata (1.8 kB)\n",
            "Collecting nvidia-nvtx-cu12==12.1.105 (from torch==2.3.1->autoawq)\n",
            "  Downloading nvidia_nvtx_cu12-12.1.105-py3-none-manylinux1_x86_64.whl.metadata (1.7 kB)\n",
            "Collecting triton==2.3.1 (from torch==2.3.1->autoawq)\n",
            "  Downloading triton-2.3.1-cp310-cp310-manylinux_2_17_x86_64.manylinux2014_x86_64.whl.metadata (1.4 kB)\n",
            "Requirement already satisfied: nvidia-nvjitlink-cu12 in /usr/local/lib/python3.10/dist-packages (from nvidia-cusolver-cu12==11.4.5.107->torch==2.3.1->autoawq) (12.6.77)\n",
            "Requirement already satisfied: huggingface-hub<1.0,>=0.16.4 in /usr/local/lib/python3.10/dist-packages (from tokenizers>=0.12.1->autoawq) (0.24.7)\n",
            "Requirement already satisfied: numpy>=1.17 in /usr/local/lib/python3.10/dist-packages (from transformers>=4.35.0->autoawq) (1.26.4)\n",
            "Requirement already satisfied: packaging>=20.0 in /usr/local/lib/python3.10/dist-packages (from transformers>=4.35.0->autoawq) (24.1)\n",
            "Requirement already satisfied: pyyaml>=5.1 in /usr/local/lib/python3.10/dist-packages (from transformers>=4.35.0->autoawq) (6.0.2)\n",
            "Requirement already satisfied: regex!=2019.12.17 in /usr/local/lib/python3.10/dist-packages (from transformers>=4.35.0->autoawq) (2024.9.11)\n",
            "Requirement already satisfied: requests in /usr/local/lib/python3.10/dist-packages (from transformers>=4.35.0->autoawq) (2.32.3)\n",
            "Requirement already satisfied: safetensors>=0.4.1 in /usr/local/lib/python3.10/dist-packages (from transformers>=4.35.0->autoawq) (0.4.5)\n",
            "Requirement already satisfied: tqdm>=4.27 in /usr/local/lib/python3.10/dist-packages (from transformers>=4.35.0->autoawq) (4.66.5)\n",
            "Requirement already satisfied: psutil in /usr/local/lib/python3.10/dist-packages (from accelerate->autoawq) (5.9.5)\n",
            "INFO: pip is looking at multiple versions of autoawq-kernels to determine which version is compatible with other requirements. This could take a while.\n",
            "Collecting autoawq-kernels (from autoawq)\n",
            "  Downloading autoawq_kernels-0.0.7-cp310-cp310-manylinux2014_x86_64.whl.metadata (2.0 kB)\n",
            "Requirement already satisfied: pyarrow>=15.0.0 in /usr/local/lib/python3.10/dist-packages (from datasets->autoawq) (16.1.0)\n",
            "Collecting dill<0.3.9,>=0.3.0 (from datasets->autoawq)\n",
            "  Downloading dill-0.3.8-py3-none-any.whl.metadata (10 kB)\n",
            "Requirement already satisfied: pandas in /usr/local/lib/python3.10/dist-packages (from datasets->autoawq) (2.2.2)\n",
            "Collecting xxhash (from datasets->autoawq)\n",
            "  Downloading xxhash-3.5.0-cp310-cp310-manylinux_2_17_x86_64.manylinux2014_x86_64.whl.metadata (12 kB)\n",
            "Collecting multiprocess (from datasets->autoawq)\n",
            "  Downloading multiprocess-0.70.17-py310-none-any.whl.metadata (7.2 kB)\n",
            "Requirement already satisfied: aiohttp in /usr/local/lib/python3.10/dist-packages (from datasets->autoawq) (3.10.9)\n",
            "Requirement already satisfied: aiohappyeyeballs>=2.3.0 in /usr/local/lib/python3.10/dist-packages (from aiohttp->datasets->autoawq) (2.4.3)\n",
            "Requirement already satisfied: aiosignal>=1.1.2 in /usr/local/lib/python3.10/dist-packages (from aiohttp->datasets->autoawq) (1.3.1)\n",
            "Requirement already satisfied: attrs>=17.3.0 in /usr/local/lib/python3.10/dist-packages (from aiohttp->datasets->autoawq) (24.2.0)\n",
            "Requirement already satisfied: frozenlist>=1.1.1 in /usr/local/lib/python3.10/dist-packages (from aiohttp->datasets->autoawq) (1.4.1)\n",
            "Requirement already satisfied: multidict<7.0,>=4.5 in /usr/local/lib/python3.10/dist-packages (from aiohttp->datasets->autoawq) (6.1.0)\n",
            "Requirement already satisfied: yarl<2.0,>=1.12.0 in /usr/local/lib/python3.10/dist-packages (from aiohttp->datasets->autoawq) (1.13.1)\n",
            "Requirement already satisfied: async-timeout<5.0,>=4.0 in /usr/local/lib/python3.10/dist-packages (from aiohttp->datasets->autoawq) (4.0.3)\n",
            "Requirement already satisfied: charset-normalizer<4,>=2 in /usr/local/lib/python3.10/dist-packages (from requests->transformers>=4.35.0->autoawq) (3.3.2)\n",
            "Requirement already satisfied: idna<4,>=2.5 in /usr/local/lib/python3.10/dist-packages (from requests->transformers>=4.35.0->autoawq) (3.10)\n",
            "Requirement already satisfied: urllib3<3,>=1.21.1 in /usr/local/lib/python3.10/dist-packages (from requests->transformers>=4.35.0->autoawq) (2.2.3)\n",
            "Requirement already satisfied: certifi>=2017.4.17 in /usr/local/lib/python3.10/dist-packages (from requests->transformers>=4.35.0->autoawq) (2024.8.30)\n",
            "Requirement already satisfied: MarkupSafe>=2.0 in /usr/local/lib/python3.10/dist-packages (from jinja2->torch==2.3.1->autoawq) (2.1.5)\n",
            "INFO: pip is looking at multiple versions of multiprocess to determine which version is compatible with other requirements. This could take a while.\n",
            "  Downloading multiprocess-0.70.16-py310-none-any.whl.metadata (7.2 kB)\n",
            "Requirement already satisfied: python-dateutil>=2.8.2 in /usr/local/lib/python3.10/dist-packages (from pandas->datasets->autoawq) (2.8.2)\n",
            "Requirement already satisfied: pytz>=2020.1 in /usr/local/lib/python3.10/dist-packages (from pandas->datasets->autoawq) (2024.2)\n",
            "Requirement already satisfied: tzdata>=2022.7 in /usr/local/lib/python3.10/dist-packages (from pandas->datasets->autoawq) (2024.2)\n",
            "Requirement already satisfied: mpmath<1.4,>=1.1.0 in /usr/local/lib/python3.10/dist-packages (from sympy->torch==2.3.1->autoawq) (1.3.0)\n",
            "Requirement already satisfied: six>=1.5 in /usr/local/lib/python3.10/dist-packages (from python-dateutil>=2.8.2->pandas->datasets->autoawq) (1.16.0)\n",
            "Downloading autoawq-0.2.6-cp310-cp310-manylinux2014_x86_64.whl (94 kB)\n",
            "\u001b[2K   \u001b[90m━━━━━━━━━━━━━━━━━━━━━━━━━━━━━━━━━━━━━━━━\u001b[0m \u001b[32m94.9/94.9 kB\u001b[0m \u001b[31m5.4 MB/s\u001b[0m eta \u001b[36m0:00:00\u001b[0m\n",
            "\u001b[?25hDownloading torch-2.3.1-cp310-cp310-manylinux1_x86_64.whl (779.1 MB)\n",
            "\u001b[2K   \u001b[90m━━━━━━━━━━━━━━━━━━━━━━━━━━━━━━━━━━━━━━━━\u001b[0m \u001b[32m779.1/779.1 MB\u001b[0m \u001b[31m2.0 MB/s\u001b[0m eta \u001b[36m0:00:00\u001b[0m\n",
            "\u001b[?25hDownloading nvidia_cublas_cu12-12.1.3.1-py3-none-manylinux1_x86_64.whl (410.6 MB)\n",
            "\u001b[2K   \u001b[90m━━━━━━━━━━━━━━━━━━━━━━━━━━━━━━━━━━━━━━━━\u001b[0m \u001b[32m410.6/410.6 MB\u001b[0m \u001b[31m3.6 MB/s\u001b[0m eta \u001b[36m0:00:00\u001b[0m\n",
            "\u001b[?25hDownloading nvidia_cuda_cupti_cu12-12.1.105-py3-none-manylinux1_x86_64.whl (14.1 MB)\n",
            "\u001b[2K   \u001b[90m━━━━━━━━━━━━━━━━━━━━━━━━━━━━━━━━━━━━━━━━\u001b[0m \u001b[32m14.1/14.1 MB\u001b[0m \u001b[31m63.0 MB/s\u001b[0m eta \u001b[36m0:00:00\u001b[0m\n",
            "\u001b[?25hDownloading nvidia_cuda_nvrtc_cu12-12.1.105-py3-none-manylinux1_x86_64.whl (23.7 MB)\n",
            "\u001b[2K   \u001b[90m━━━━━━━━━━━━━━━━━━━━━━━━━━━━━━━━━━━━━━━━\u001b[0m \u001b[32m23.7/23.7 MB\u001b[0m \u001b[31m57.0 MB/s\u001b[0m eta \u001b[36m0:00:00\u001b[0m\n",
            "\u001b[?25hDownloading nvidia_cuda_runtime_cu12-12.1.105-py3-none-manylinux1_x86_64.whl (823 kB)\n",
            "\u001b[2K   \u001b[90m━━━━━━━━━━━━━━━━━━━━━━━━━━━━━━━━━━━━━━━━\u001b[0m \u001b[32m823.6/823.6 kB\u001b[0m \u001b[31m38.6 MB/s\u001b[0m eta \u001b[36m0:00:00\u001b[0m\n",
            "\u001b[?25hDownloading nvidia_cudnn_cu12-8.9.2.26-py3-none-manylinux1_x86_64.whl (731.7 MB)\n",
            "\u001b[2K   \u001b[90m━━━━━━━━━━━━━━━━━━━━━━━━━━━━━━━━━━━━━━━━\u001b[0m \u001b[32m731.7/731.7 MB\u001b[0m \u001b[31m2.7 MB/s\u001b[0m eta \u001b[36m0:00:00\u001b[0m\n",
            "\u001b[?25hDownloading nvidia_cufft_cu12-11.0.2.54-py3-none-manylinux1_x86_64.whl (121.6 MB)\n",
            "\u001b[2K   \u001b[90m━━━━━━━━━━━━━━━━━━━━━━━━━━━━━━━━━━━━━━━━\u001b[0m \u001b[32m121.6/121.6 MB\u001b[0m \u001b[31m7.6 MB/s\u001b[0m eta \u001b[36m0:00:00\u001b[0m\n",
            "\u001b[?25hDownloading nvidia_curand_cu12-10.3.2.106-py3-none-manylinux1_x86_64.whl (56.5 MB)\n",
            "\u001b[2K   \u001b[90m━━━━━━━━━━━━━━━━━━━━━━━━━━━━━━━━━━━━━━━━\u001b[0m \u001b[32m56.5/56.5 MB\u001b[0m \u001b[31m14.5 MB/s\u001b[0m eta \u001b[36m0:00:00\u001b[0m\n",
            "\u001b[?25hDownloading nvidia_cusolver_cu12-11.4.5.107-py3-none-manylinux1_x86_64.whl (124.2 MB)\n",
            "\u001b[2K   \u001b[90m━━━━━━━━━━━━━━━━━━━━━━━━━━━━━━━━━━━━━━━━\u001b[0m \u001b[32m124.2/124.2 MB\u001b[0m \u001b[31m7.7 MB/s\u001b[0m eta \u001b[36m0:00:00\u001b[0m\n",
            "\u001b[?25hDownloading nvidia_cusparse_cu12-12.1.0.106-py3-none-manylinux1_x86_64.whl (196.0 MB)\n",
            "\u001b[2K   \u001b[90m━━━━━━━━━━━━━━━━━━━━━━━━━━━━━━━━━━━━━━━━\u001b[0m \u001b[32m196.0/196.0 MB\u001b[0m \u001b[31m6.0 MB/s\u001b[0m eta \u001b[36m0:00:00\u001b[0m\n",
            "\u001b[?25hDownloading nvidia_nccl_cu12-2.20.5-py3-none-manylinux2014_x86_64.whl (176.2 MB)\n",
            "\u001b[2K   \u001b[90m━━━━━━━━━━━━━━━━━━━━━━━━━━━━━━━━━━━━━━━━\u001b[0m \u001b[32m176.2/176.2 MB\u001b[0m \u001b[31m6.4 MB/s\u001b[0m eta \u001b[36m0:00:00\u001b[0m\n",
            "\u001b[?25hDownloading nvidia_nvtx_cu12-12.1.105-py3-none-manylinux1_x86_64.whl (99 kB)\n",
            "\u001b[2K   \u001b[90m━━━━━━━━━━━━━━━━━━━━━━━━━━━━━━━━━━━━━━━━\u001b[0m \u001b[32m99.1/99.1 kB\u001b[0m \u001b[31m9.5 MB/s\u001b[0m eta \u001b[36m0:00:00\u001b[0m\n",
            "\u001b[?25hDownloading triton-2.3.1-cp310-cp310-manylinux_2_17_x86_64.manylinux2014_x86_64.whl (168.1 MB)\n",
            "\u001b[2K   \u001b[90m━━━━━━━━━━━━━━━━━━━━━━━━━━━━━━━━━━━━━━━━\u001b[0m \u001b[32m168.1/168.1 MB\u001b[0m \u001b[31m6.8 MB/s\u001b[0m eta \u001b[36m0:00:00\u001b[0m\n",
            "\u001b[?25hDownloading autoawq_kernels-0.0.7-cp310-cp310-manylinux2014_x86_64.whl (33.6 MB)\n",
            "\u001b[2K   \u001b[90m━━━━━━━━━━━━━━━━━━━━━━━━━━━━━━━━━━━━━━━━\u001b[0m \u001b[32m33.6/33.6 MB\u001b[0m \u001b[31m54.2 MB/s\u001b[0m eta \u001b[36m0:00:00\u001b[0m\n",
            "\u001b[?25hDownloading datasets-3.0.1-py3-none-any.whl (471 kB)\n",
            "\u001b[2K   \u001b[90m━━━━━━━━━━━━━━━━━━━━━━━━━━━━━━━━━━━━━━━━\u001b[0m \u001b[32m471.6/471.6 kB\u001b[0m \u001b[31m38.6 MB/s\u001b[0m eta \u001b[36m0:00:00\u001b[0m\n",
            "\u001b[?25hDownloading zstandard-0.23.0-cp310-cp310-manylinux_2_17_x86_64.manylinux2014_x86_64.whl (5.4 MB)\n",
            "\u001b[2K   \u001b[90m━━━━━━━━━━━━━━━━━━━━━━━━━━━━━━━━━━━━━━━━\u001b[0m \u001b[32m5.4/5.4 MB\u001b[0m \u001b[31m87.8 MB/s\u001b[0m eta \u001b[36m0:00:00\u001b[0m\n",
            "\u001b[?25hDownloading dill-0.3.8-py3-none-any.whl (116 kB)\n",
            "\u001b[2K   \u001b[90m━━━━━━━━━━━━━━━━━━━━━━━━━━━━━━━━━━━━━━━━\u001b[0m \u001b[32m116.3/116.3 kB\u001b[0m \u001b[31m10.7 MB/s\u001b[0m eta \u001b[36m0:00:00\u001b[0m\n",
            "\u001b[?25hDownloading multiprocess-0.70.16-py310-none-any.whl (134 kB)\n",
            "\u001b[2K   \u001b[90m━━━━━━━━━━━━━━━━━━━━━━━━━━━━━━━━━━━━━━━━\u001b[0m \u001b[32m134.8/134.8 kB\u001b[0m \u001b[31m13.3 MB/s\u001b[0m eta \u001b[36m0:00:00\u001b[0m\n",
            "\u001b[?25hDownloading xxhash-3.5.0-cp310-cp310-manylinux_2_17_x86_64.manylinux2014_x86_64.whl (194 kB)\n",
            "\u001b[2K   \u001b[90m━━━━━━━━━━━━━━━━━━━━━━━━━━━━━━━━━━━━━━━━\u001b[0m \u001b[32m194.1/194.1 kB\u001b[0m \u001b[31m18.9 MB/s\u001b[0m eta \u001b[36m0:00:00\u001b[0m\n",
            "\u001b[?25hInstalling collected packages: zstandard, xxhash, triton, nvidia-nvtx-cu12, nvidia-nccl-cu12, nvidia-cusparse-cu12, nvidia-curand-cu12, nvidia-cufft-cu12, nvidia-cuda-runtime-cu12, nvidia-cuda-nvrtc-cu12, nvidia-cuda-cupti-cu12, nvidia-cublas-cu12, dill, nvidia-cusolver-cu12, nvidia-cudnn-cu12, multiprocess, torch, autoawq-kernels, datasets, autoawq\n",
            "  Attempting uninstall: nvidia-nccl-cu12\n",
            "    Found existing installation: nvidia-nccl-cu12 2.23.4\n",
            "    Uninstalling nvidia-nccl-cu12-2.23.4:\n",
            "      Successfully uninstalled nvidia-nccl-cu12-2.23.4\n",
            "  Attempting uninstall: nvidia-cusparse-cu12\n",
            "    Found existing installation: nvidia-cusparse-cu12 12.5.4.2\n",
            "    Uninstalling nvidia-cusparse-cu12-12.5.4.2:\n",
            "      Successfully uninstalled nvidia-cusparse-cu12-12.5.4.2\n",
            "  Attempting uninstall: nvidia-cufft-cu12\n",
            "    Found existing installation: nvidia-cufft-cu12 11.3.0.4\n",
            "    Uninstalling nvidia-cufft-cu12-11.3.0.4:\n",
            "      Successfully uninstalled nvidia-cufft-cu12-11.3.0.4\n",
            "  Attempting uninstall: nvidia-cuda-runtime-cu12\n",
            "    Found existing installation: nvidia-cuda-runtime-cu12 12.6.77\n",
            "    Uninstalling nvidia-cuda-runtime-cu12-12.6.77:\n",
            "      Successfully uninstalled nvidia-cuda-runtime-cu12-12.6.77\n",
            "  Attempting uninstall: nvidia-cuda-cupti-cu12\n",
            "    Found existing installation: nvidia-cuda-cupti-cu12 12.6.80\n",
            "    Uninstalling nvidia-cuda-cupti-cu12-12.6.80:\n",
            "      Successfully uninstalled nvidia-cuda-cupti-cu12-12.6.80\n",
            "  Attempting uninstall: nvidia-cublas-cu12\n",
            "    Found existing installation: nvidia-cublas-cu12 12.6.3.3\n",
            "    Uninstalling nvidia-cublas-cu12-12.6.3.3:\n",
            "      Successfully uninstalled nvidia-cublas-cu12-12.6.3.3\n",
            "  Attempting uninstall: nvidia-cusolver-cu12\n",
            "    Found existing installation: nvidia-cusolver-cu12 11.7.1.2\n",
            "    Uninstalling nvidia-cusolver-cu12-11.7.1.2:\n",
            "      Successfully uninstalled nvidia-cusolver-cu12-11.7.1.2\n",
            "  Attempting uninstall: nvidia-cudnn-cu12\n",
            "    Found existing installation: nvidia-cudnn-cu12 9.4.0.58\n",
            "    Uninstalling nvidia-cudnn-cu12-9.4.0.58:\n",
            "      Successfully uninstalled nvidia-cudnn-cu12-9.4.0.58\n",
            "  Attempting uninstall: torch\n",
            "    Found existing installation: torch 2.4.1+cu121\n",
            "    Uninstalling torch-2.4.1+cu121:\n",
            "      Successfully uninstalled torch-2.4.1+cu121\n",
            "\u001b[31mERROR: pip's dependency resolver does not currently take into account all the packages that are installed. This behaviour is the source of the following dependency conflicts.\n",
            "torchaudio 2.4.1+cu121 requires torch==2.4.1, but you have torch 2.3.1 which is incompatible.\n",
            "torchvision 0.19.1+cu121 requires torch==2.4.1, but you have torch 2.3.1 which is incompatible.\u001b[0m\u001b[31m\n",
            "\u001b[0mSuccessfully installed autoawq-0.2.6 autoawq-kernels-0.0.7 datasets-3.0.1 dill-0.3.8 multiprocess-0.70.16 nvidia-cublas-cu12-12.1.3.1 nvidia-cuda-cupti-cu12-12.1.105 nvidia-cuda-nvrtc-cu12-12.1.105 nvidia-cuda-runtime-cu12-12.1.105 nvidia-cudnn-cu12-8.9.2.26 nvidia-cufft-cu12-11.0.2.54 nvidia-curand-cu12-10.3.2.106 nvidia-cusolver-cu12-11.4.5.107 nvidia-cusparse-cu12-12.1.0.106 nvidia-nccl-cu12-2.20.5 nvidia-nvtx-cu12-12.1.105 torch-2.3.1 triton-2.3.1 xxhash-3.5.0 zstandard-0.23.0\n"
          ]
        },
        {
          "output_type": "display_data",
          "data": {
            "application/vnd.colab-display-data+json": {
              "pip_warning": {
                "packages": [
                  "torch",
                  "torchgen"
                ]
              },
              "id": "843d0fceefae4bf6a5b4b78bf704a006"
            }
          },
          "metadata": {}
        }
      ]
    },
    {
      "cell_type": "code",
      "source": [
        "!pip install --upgrade torch torchvision torchaudio"
      ],
      "metadata": {
        "colab": {
          "base_uri": "https://localhost:8080/"
        },
        "id": "fEQeNm6Nq46v",
        "outputId": "f4e5c20b-51a3-4de0-b4e8-99cebeea9114"
      },
      "execution_count": 5,
      "outputs": [
        {
          "output_type": "stream",
          "name": "stdout",
          "text": [
            "Requirement already satisfied: torch in /usr/local/lib/python3.10/dist-packages (2.3.1)\n",
            "Collecting torch\n",
            "  Downloading torch-2.4.1-cp310-cp310-manylinux1_x86_64.whl.metadata (26 kB)\n",
            "Requirement already satisfied: torchvision in /usr/local/lib/python3.10/dist-packages (0.19.1+cu121)\n",
            "Requirement already satisfied: torchaudio in /usr/local/lib/python3.10/dist-packages (2.4.1+cu121)\n",
            "Requirement already satisfied: filelock in /usr/local/lib/python3.10/dist-packages (from torch) (3.16.1)\n",
            "Requirement already satisfied: typing-extensions>=4.8.0 in /usr/local/lib/python3.10/dist-packages (from torch) (4.12.2)\n",
            "Requirement already satisfied: sympy in /usr/local/lib/python3.10/dist-packages (from torch) (1.13.3)\n",
            "Requirement already satisfied: networkx in /usr/local/lib/python3.10/dist-packages (from torch) (3.3)\n",
            "Requirement already satisfied: jinja2 in /usr/local/lib/python3.10/dist-packages (from torch) (3.1.4)\n",
            "Requirement already satisfied: fsspec in /usr/local/lib/python3.10/dist-packages (from torch) (2024.6.1)\n",
            "Requirement already satisfied: nvidia-cuda-nvrtc-cu12==12.1.105 in /usr/local/lib/python3.10/dist-packages (from torch) (12.1.105)\n",
            "Requirement already satisfied: nvidia-cuda-runtime-cu12==12.1.105 in /usr/local/lib/python3.10/dist-packages (from torch) (12.1.105)\n",
            "Requirement already satisfied: nvidia-cuda-cupti-cu12==12.1.105 in /usr/local/lib/python3.10/dist-packages (from torch) (12.1.105)\n",
            "Collecting nvidia-cudnn-cu12==9.1.0.70 (from torch)\n",
            "  Downloading nvidia_cudnn_cu12-9.1.0.70-py3-none-manylinux2014_x86_64.whl.metadata (1.6 kB)\n",
            "Requirement already satisfied: nvidia-cublas-cu12==12.1.3.1 in /usr/local/lib/python3.10/dist-packages (from torch) (12.1.3.1)\n",
            "Requirement already satisfied: nvidia-cufft-cu12==11.0.2.54 in /usr/local/lib/python3.10/dist-packages (from torch) (11.0.2.54)\n",
            "Requirement already satisfied: nvidia-curand-cu12==10.3.2.106 in /usr/local/lib/python3.10/dist-packages (from torch) (10.3.2.106)\n",
            "Requirement already satisfied: nvidia-cusolver-cu12==11.4.5.107 in /usr/local/lib/python3.10/dist-packages (from torch) (11.4.5.107)\n",
            "Requirement already satisfied: nvidia-cusparse-cu12==12.1.0.106 in /usr/local/lib/python3.10/dist-packages (from torch) (12.1.0.106)\n",
            "Requirement already satisfied: nvidia-nccl-cu12==2.20.5 in /usr/local/lib/python3.10/dist-packages (from torch) (2.20.5)\n",
            "Requirement already satisfied: nvidia-nvtx-cu12==12.1.105 in /usr/local/lib/python3.10/dist-packages (from torch) (12.1.105)\n",
            "Collecting triton==3.0.0 (from torch)\n",
            "  Downloading triton-3.0.0-1-cp310-cp310-manylinux2014_x86_64.manylinux_2_17_x86_64.whl.metadata (1.3 kB)\n",
            "Requirement already satisfied: nvidia-nvjitlink-cu12 in /usr/local/lib/python3.10/dist-packages (from nvidia-cusolver-cu12==11.4.5.107->torch) (12.6.77)\n",
            "Requirement already satisfied: numpy in /usr/local/lib/python3.10/dist-packages (from torchvision) (1.26.4)\n",
            "Requirement already satisfied: pillow!=8.3.*,>=5.3.0 in /usr/local/lib/python3.10/dist-packages (from torchvision) (10.4.0)\n",
            "Requirement already satisfied: MarkupSafe>=2.0 in /usr/local/lib/python3.10/dist-packages (from jinja2->torch) (2.1.5)\n",
            "Requirement already satisfied: mpmath<1.4,>=1.1.0 in /usr/local/lib/python3.10/dist-packages (from sympy->torch) (1.3.0)\n",
            "Downloading torch-2.4.1-cp310-cp310-manylinux1_x86_64.whl (797.1 MB)\n",
            "\u001b[2K   \u001b[90m━━━━━━━━━━━━━━━━━━━━━━━━━━━━━━━━━━━━━━━━\u001b[0m \u001b[32m797.1/797.1 MB\u001b[0m \u001b[31m1.5 MB/s\u001b[0m eta \u001b[36m0:00:00\u001b[0m\n",
            "\u001b[?25hDownloading nvidia_cudnn_cu12-9.1.0.70-py3-none-manylinux2014_x86_64.whl (664.8 MB)\n",
            "\u001b[2K   \u001b[91m━━━━━━━━━━━━━━━━━━━━━━━━━━━━━━━━━━━━━━━\u001b[0m\u001b[91m╸\u001b[0m \u001b[32m664.6/664.8 MB\u001b[0m \u001b[31m122.7 MB/s\u001b[0m eta \u001b[36m0:00:01\u001b[0m\n",
            "\u001b[?25hDownloading triton-3.0.0-1-cp310-cp310-manylinux2014_x86_64.manylinux_2_17_x86_64.whl (209.4 MB)\n",
            "\u001b[2K   \u001b[90m━━━━━━━━━━━━━━━━━━━━━━━━━━━━━━━━━━━━━━━━\u001b[0m \u001b[32m209.4/209.4 MB\u001b[0m \u001b[31m5.9 MB/s\u001b[0m eta \u001b[36m0:00:00\u001b[0m\n",
            "\u001b[?25h\u001b[31mERROR: THESE PACKAGES DO NOT MATCH THE HASHES FROM THE REQUIREMENTS FILE. If you have updated the package versions, please update the hashes. Otherwise, examine the package contents carefully; someone may have tampered with them.\n",
            "    unknown package:\n",
            "        Expected sha256 165764f44ef8c61fcdfdfdbe769d687e06374059fbb388b6c89ecb0e28793a6f\n",
            "             Got        171540a45e07519a84b4e9f3669daef4039fca363dd6a22e909255eea5eddc66\n",
            "\u001b[0m\u001b[31m\n",
            "\u001b[0m"
          ]
        }
      ]
    },
    {
      "cell_type": "code",
      "source": [
        "model = AutoModelForCausalLM.from_pretrained(\n",
        "    model_name,\n",
        "    trust_remote_code=True,\n",
        "    torch_dtype=torch.float16,\n",
        "    # load_in_8bit=True,\n",
        "    # load_in_4bit=True,\n",
        "    device_map=\"auto\",\n",
        "    use_cache=True,\n",
        ")\n"
      ],
      "metadata": {
        "colab": {
          "base_uri": "https://localhost:8080/",
          "height": 81,
          "referenced_widgets": [
            "366f55c971054d6194d059e5af8443ed",
            "19c904b4ae844e0c948baeb571003d11",
            "ddabcc845d294cae813cad282009ee77",
            "2fe0a6bd526a46d2b80754af98728d6c",
            "95ac5d908b424d64aad7e59a17e1d66c",
            "aefa7c84504544b793ffca024c6a1e9a",
            "745d88e1e4514a7aa03244d604fbd53b",
            "8349d7dfecab406e9d02675cf1f5f91b",
            "235a6aa65bd94a4980872cea6455dec6",
            "c55822ef314b4deb88ca5bdd8874ba83",
            "903a0976772d45a9873a57504ea95d45",
            "2a0cac123cd541dfb1741591485ec312",
            "cd7896bf4a514d62983e085a54067796",
            "6885047ab237493a8d5700273e2db1c4",
            "bb0ced39262042e48a630b4762c02f40",
            "d418db2e115a43cab3800020b62fb6e2",
            "0244499491c54ed9a41520a74738d7a7",
            "60e1670980c6434583f67dfd77d85fda",
            "802a74710cbc46428bf1f66ef504db2a",
            "eaa274641eb140e0a0eebce5d76a5d04",
            "10cf1b65e938493abe40d1f6c0fa6b60",
            "7c3f1f5747104e05a9ea52e40035dcab"
          ]
        },
        "id": "3rqbDInwpKY1",
        "outputId": "cdd47035-bd07-494a-ffb0-5bfc46041813"
      },
      "execution_count": 6,
      "outputs": [
        {
          "output_type": "display_data",
          "data": {
            "text/plain": [
              "Loading checkpoint shards:   0%|          | 0/2 [00:00<?, ?it/s]"
            ],
            "application/vnd.jupyter.widget-view+json": {
              "version_major": 2,
              "version_minor": 0,
              "model_id": "366f55c971054d6194d059e5af8443ed"
            }
          },
          "metadata": {}
        },
        {
          "output_type": "display_data",
          "data": {
            "text/plain": [
              "generation_config.json:   0%|          | 0.00/189 [00:00<?, ?B/s]"
            ],
            "application/vnd.jupyter.widget-view+json": {
              "version_major": 2,
              "version_minor": 0,
              "model_id": "2a0cac123cd541dfb1741591485ec312"
            }
          },
          "metadata": {}
        }
      ]
    },
    {
      "cell_type": "code",
      "source": [
        "def generate(input_text):\n",
        "  prompt = [\n",
        "      {\"role\": \"system\", \"content\": \"You are a helpful assistant, that responds in very concise manner with only main points.\"},\n",
        "       {\"role\": \"user\", \"content\": input_text},\n",
        "  ]\n",
        "  inputs = tokenizer.apply_chat_template(prompt,tokenize=True,\n",
        "    add_generation_prompt=True,\n",
        "    return_tensors=\"pt\",\n",
        "    return_dict=True,\n",
        "  ).to(\"cuda\")\n",
        "  outputs = model.generate(**inputs, do_sample=True, max_new_tokens=512) # Corrected indentation\n",
        "  return tokenizer.batch_decode(outputs[:, inputs['input_ids'].shape[1]:], skip_special_tokens=True)[0]"
      ],
      "metadata": {
        "id": "Ozh11i5MpPOD"
      },
      "execution_count": 7,
      "outputs": []
    },
    {
      "cell_type": "code",
      "source": [
        "!pip install pdfplumber -q"
      ],
      "metadata": {
        "colab": {
          "base_uri": "https://localhost:8080/"
        },
        "id": "fPP0c4ewpTMH",
        "outputId": "2eea462b-b83d-4733-e7bc-82fc41dcf8f4"
      },
      "execution_count": 8,
      "outputs": [
        {
          "output_type": "stream",
          "name": "stdout",
          "text": [
            "\u001b[2K     \u001b[90m━━━━━━━━━━━━━━━━━━━━━━━━━━━━━━━━━━━━━━━━\u001b[0m \u001b[32m42.0/42.0 kB\u001b[0m \u001b[31m3.4 MB/s\u001b[0m eta \u001b[36m0:00:00\u001b[0m\n",
            "\u001b[2K     \u001b[90m━━━━━━━━━━━━━━━━━━━━━━━━━━━━━━━━━━━━━━━━\u001b[0m \u001b[32m48.5/48.5 kB\u001b[0m \u001b[31m3.1 MB/s\u001b[0m eta \u001b[36m0:00:00\u001b[0m\n",
            "\u001b[2K   \u001b[90m━━━━━━━━━━━━━━━━━━━━━━━━━━━━━━━━━━━━━━━━\u001b[0m \u001b[32m59.2/59.2 kB\u001b[0m \u001b[31m3.7 MB/s\u001b[0m eta \u001b[36m0:00:00\u001b[0m\n",
            "\u001b[2K   \u001b[90m━━━━━━━━━━━━━━━━━━━━━━━━━━━━━━━━━━━━━━━━\u001b[0m \u001b[32m5.6/5.6 MB\u001b[0m \u001b[31m40.9 MB/s\u001b[0m eta \u001b[36m0:00:00\u001b[0m\n",
            "\u001b[2K   \u001b[90m━━━━━━━━━━━━━━━━━━━━━━━━━━━━━━━━━━━━━━━━\u001b[0m \u001b[32m2.8/2.8 MB\u001b[0m \u001b[31m59.7 MB/s\u001b[0m eta \u001b[36m0:00:00\u001b[0m\n",
            "\u001b[?25h"
          ]
        }
      ]
    },
    {
      "cell_type": "code",
      "source": [
        "import pdfplumber\n",
        "from google.colab import drive\n",
        "import os"
      ],
      "metadata": {
        "id": "T04CxoBorUVS"
      },
      "execution_count": 9,
      "outputs": []
    },
    {
      "cell_type": "code",
      "source": [
        "drive.mount('/content/gdrive')"
      ],
      "metadata": {
        "colab": {
          "base_uri": "https://localhost:8080/"
        },
        "id": "OXsU_dCjrW8r",
        "outputId": "98c60dd7-4ebe-4640-a8ad-b528ac967daf"
      },
      "execution_count": 10,
      "outputs": [
        {
          "output_type": "stream",
          "name": "stdout",
          "text": [
            "Mounted at /content/gdrive\n"
          ]
        }
      ]
    },
    {
      "cell_type": "code",
      "source": [
        "!pip install PyMuPDF\n",
        "from pathlib import Path\n",
        "import fitz  # PyMuPDF\n",
        "\n",
        "# returns all file paths that has .pdf as extension in the specified directory\n",
        "pdf_search = Path('/content/gdrive/MyDrive/pdf_folder').glob(\"*.pdf\")\n",
        "# convert the glob generator out put to list\n",
        "pdf_files = pdf_files =  [str(file.absolute()) for file in pdf_search]\n",
        "\n",
        "cv_data=[]\n",
        "\n",
        "for pdf_path in pdf_files:\n",
        "  # Open the PDF file\n",
        "  with fitz.open(pdf_path) as doc:\n",
        "    cv_mess_text = \"\"\n",
        "    # Iterate through pages and extract text\n",
        "    for page in doc:\n",
        "      cv_mess_text += page.get_text()\n",
        "      cv_data.append(cv_mess_text)"
      ],
      "metadata": {
        "colab": {
          "base_uri": "https://localhost:8080/"
        },
        "id": "p_-qC1mjrfSd",
        "outputId": "f50853d8-76d8-4cda-b18c-cb9c381538bf"
      },
      "execution_count": 11,
      "outputs": [
        {
          "output_type": "stream",
          "name": "stdout",
          "text": [
            "Collecting PyMuPDF\n",
            "  Downloading PyMuPDF-1.24.11-cp38-abi3-manylinux2014_x86_64.manylinux_2_17_x86_64.whl.metadata (3.4 kB)\n",
            "Downloading PyMuPDF-1.24.11-cp38-abi3-manylinux2014_x86_64.manylinux_2_17_x86_64.whl (19.6 MB)\n",
            "\u001b[2K   \u001b[90m━━━━━━━━━━━━━━━━━━━━━━━━━━━━━━━━━━━━━━━━\u001b[0m \u001b[32m19.6/19.6 MB\u001b[0m \u001b[31m59.1 MB/s\u001b[0m eta \u001b[36m0:00:00\u001b[0m\n",
            "\u001b[?25hInstalling collected packages: PyMuPDF\n",
            "Successfully installed PyMuPDF-1.24.11\n"
          ]
        }
      ]
    },
    {
      "cell_type": "code",
      "source": [
        "cv_data"
      ],
      "metadata": {
        "colab": {
          "base_uri": "https://localhost:8080/"
        },
        "id": "fP7yHULkrlN5",
        "outputId": "e3a8f08a-b7c9-4cef-bccb-8103703d0da4"
      },
      "execution_count": 12,
      "outputs": [
        {
          "output_type": "execute_result",
          "data": {
            "text/plain": [
              "[\"INFORMATION TECHNOLOGY TECHNICIAN I\\nSummary\\nVersatile Systems Administrator possessing superior troubleshooting skills for networking issues, end user problems, and network security.\\nExperienced in server management, systems analysis, and offering in-depth understanding of IT infrastructure areas. Detail-oriented, independent,\\nand focused on taking a systematic approach to solving complex problems. Demonstrated exceptional technical knowledge and skills while\\nworking with various teams to achieve shared goals and objectives.\\nHighlights\\nActive Directory\\nGroup Policy Objects\\nPowerShell and VBScript\\nMicrosoft Exchange\\nVMWare experience\\nNew technology and product research\\nOffice 365 and Azure\\nStorage management\\nEnterprise backup management\\nDisaster recovery\\nExperience\\nInformation Technology Technician I Aug 2007 to Current \\nCompany Name ï¼\\u200b City , State\\nMigrating and managing user accounts in Microsoft Office 365 and Exchange Online.\\nCreating and managing virtual machines for systems such as domain controllers and Active Directory Federation Services (ADFS) in\\nMicrosoft Windows Azure (IaaS).\\nCreating and managing storage in Microsoft Windows Azure (IaaS).\\nInstalling and configuring StorSimple iSCSI cloud array (STaaS/BaaS).\\nInstalling, configuring, and testing Twinstrata iSCSI cloud array (STaaS/BaaS).\\nCollaborating on project plan for Office 365 migration.\\nDeveloping detailed specifications for the Office 365 migration, including business-case documentation, cost benefit analyses, technical\\ndiagrams, and work flow documentation.\\nReceived training in MVC 4 for Visual Studio using .Net Framework 4/4.5 to develop application using HTML5 and CSS3.\\nInstalling, configuring, and supporting Linux machines for the open Wi-Fi network project.\\nCompiling and generating statistical information concerning wireless network traffic using Cacti.\\nConfiguring wireless LAN router networking and security access.\\nInstalling and configuring wireless certificates.\\nDeveloping detailed specifications for the acquisition of an Enterprise backup system including systems design, business-case\\ndocumentation, cost benefit analysis, technical diagrams, and work flow documentation.\\nReviewing, evaluating, and analyzing departmental policies, guidelines, procedures, and standards with management and staff.\\nDeveloping test scripts for acceptance, unit, and system testing of Hyperion Phase 1 and MiamiBiz Phase 2.\\nDeveloping Quality Assurance and testing plan for Hyperion Phase 1 and MiamiBiz Phase 2.\\nDebugging and logging of errors in Hyperion and MiamiBiz using Team Foundation Server (TFS).\\nParticipated in various phases of the project life cycle such as: determining requirements, design conceptualization, testing, implementation,\\ndeployment, and release for the Hyperion and MiamiBiz projects.\\nCollaborating on project plans for Hyperion and MiamiBiz.\\nPreparing presentations and documentation to demonstrate Hyperion and MiamiBiz functionality or design.\\nMonitoring network traffic, and compiling and generating statistical information using Solar Winds.\\nCollaborating on Disaster Recovery plan and procedures.\\nResearching, evaluating, and recommending new hardware and new software.\\nCommunicating and defining systems design and requirements for new and existing systems and applications.\\nResearching, evaluating, recommending, testing, and implementing third party software/utilities.\\nPlanning and designing network infrastructure changes â€“ adding/removing servers, appliances, network logical flow.\\nReviewing, evaluating, and analyzing existing system and application viability with management and staff.\\nAdministering and maintaining shares on the file servers.\\nReviewing server logs to troubleshoot issues.\\nScheduling and applying hot fixes and security patches on the server infrastructure which includes the operating system and application\\nsoftware.\\nReviewing systems reporting in SCCM (System Center Configuration Manager).\\nResolving service requests escalated by the Help Desk or other technicians.\\nTroubleshooting and analyzing and system problems for root cause analysis.\\nGiving and participating in training and education programs to explain upgrades to end users.\\nMigrating users' documents from local computer storage to shares on the file servers.\\nConfiguring, supporting, and maintaining file shares using Distributed File System (DFS)\\nManaging, implementing, and testing Enterprise backup infrastructure systems such as the Symantec Veritas Netbackup, Symantec Backup\\nExec System Recovery/Livestate, and VRanger backup servers.\\nManaging, configuring, and supporting DataDomain storage.\\nConfiguring and supporting Microsoft Windows Server 2003, 2008, and 2012.\\nInstalling, configuring, and supporting Microsoft Windows 7, Windows 8, and Microsoft Office 2007, 2010, and 2013.\\n\",\n",
              " \"INFORMATION TECHNOLOGY TECHNICIAN I\\nSummary\\nVersatile Systems Administrator possessing superior troubleshooting skills for networking issues, end user problems, and network security.\\nExperienced in server management, systems analysis, and offering in-depth understanding of IT infrastructure areas. Detail-oriented, independent,\\nand focused on taking a systematic approach to solving complex problems. Demonstrated exceptional technical knowledge and skills while\\nworking with various teams to achieve shared goals and objectives.\\nHighlights\\nActive Directory\\nGroup Policy Objects\\nPowerShell and VBScript\\nMicrosoft Exchange\\nVMWare experience\\nNew technology and product research\\nOffice 365 and Azure\\nStorage management\\nEnterprise backup management\\nDisaster recovery\\nExperience\\nInformation Technology Technician I Aug 2007 to Current \\nCompany Name ï¼\\u200b City , State\\nMigrating and managing user accounts in Microsoft Office 365 and Exchange Online.\\nCreating and managing virtual machines for systems such as domain controllers and Active Directory Federation Services (ADFS) in\\nMicrosoft Windows Azure (IaaS).\\nCreating and managing storage in Microsoft Windows Azure (IaaS).\\nInstalling and configuring StorSimple iSCSI cloud array (STaaS/BaaS).\\nInstalling, configuring, and testing Twinstrata iSCSI cloud array (STaaS/BaaS).\\nCollaborating on project plan for Office 365 migration.\\nDeveloping detailed specifications for the Office 365 migration, including business-case documentation, cost benefit analyses, technical\\ndiagrams, and work flow documentation.\\nReceived training in MVC 4 for Visual Studio using .Net Framework 4/4.5 to develop application using HTML5 and CSS3.\\nInstalling, configuring, and supporting Linux machines for the open Wi-Fi network project.\\nCompiling and generating statistical information concerning wireless network traffic using Cacti.\\nConfiguring wireless LAN router networking and security access.\\nInstalling and configuring wireless certificates.\\nDeveloping detailed specifications for the acquisition of an Enterprise backup system including systems design, business-case\\ndocumentation, cost benefit analysis, technical diagrams, and work flow documentation.\\nReviewing, evaluating, and analyzing departmental policies, guidelines, procedures, and standards with management and staff.\\nDeveloping test scripts for acceptance, unit, and system testing of Hyperion Phase 1 and MiamiBiz Phase 2.\\nDeveloping Quality Assurance and testing plan for Hyperion Phase 1 and MiamiBiz Phase 2.\\nDebugging and logging of errors in Hyperion and MiamiBiz using Team Foundation Server (TFS).\\nParticipated in various phases of the project life cycle such as: determining requirements, design conceptualization, testing, implementation,\\ndeployment, and release for the Hyperion and MiamiBiz projects.\\nCollaborating on project plans for Hyperion and MiamiBiz.\\nPreparing presentations and documentation to demonstrate Hyperion and MiamiBiz functionality or design.\\nMonitoring network traffic, and compiling and generating statistical information using Solar Winds.\\nCollaborating on Disaster Recovery plan and procedures.\\nResearching, evaluating, and recommending new hardware and new software.\\nCommunicating and defining systems design and requirements for new and existing systems and applications.\\nResearching, evaluating, recommending, testing, and implementing third party software/utilities.\\nPlanning and designing network infrastructure changes â€“ adding/removing servers, appliances, network logical flow.\\nReviewing, evaluating, and analyzing existing system and application viability with management and staff.\\nAdministering and maintaining shares on the file servers.\\nReviewing server logs to troubleshoot issues.\\nScheduling and applying hot fixes and security patches on the server infrastructure which includes the operating system and application\\nsoftware.\\nReviewing systems reporting in SCCM (System Center Configuration Manager).\\nResolving service requests escalated by the Help Desk or other technicians.\\nTroubleshooting and analyzing and system problems for root cause analysis.\\nGiving and participating in training and education programs to explain upgrades to end users.\\nMigrating users' documents from local computer storage to shares on the file servers.\\nConfiguring, supporting, and maintaining file shares using Distributed File System (DFS)\\nManaging, implementing, and testing Enterprise backup infrastructure systems such as the Symantec Veritas Netbackup, Symantec Backup\\nExec System Recovery/Livestate, and VRanger backup servers.\\nManaging, configuring, and supporting DataDomain storage.\\nConfiguring and supporting Microsoft Windows Server 2003, 2008, and 2012.\\nInstalling, configuring, and supporting Microsoft Windows 7, Windows 8, and Microsoft Office 2007, 2010, and 2013.\\nInstalling, configuring, and supporting McAfee anti-virus software on servers.\\nMigrating Exchange infrastructure from Exchange 2003 to Exchange 2007 and from Exchange 2007 to Exchange 2010.\\nSupporting servers in the virtualization infrastructure using VMware vSphere.\\nInstalling, configuring, and testing Veeam virtual machine backup software and Virtual Desktop Infrastructure (VDI).\\nReviewing systems reporting in System Center Configuration Manager (SCCM).\\nAdministering and maintaining the Symantec Enterprise Vault servers.\\nManaging the Active Directory Domain Controllers (DCs).\\nCreating and maintaining Group Policy Objects (GPOs) in Microsoft Active Directory.\\nConfiguring and supporting Microsoft Exchange Active Sync on devices with Apple iOS and Android mobile operating systems.\\nConfiguring and supporting Blackberry devices on the Blackberry Enterprise Server to receive Exchange email.\\nDeveloping, testing, designing, and implementing application scripts using languages such as command batch files, Visual Basic Script, and\\nPowerShell.\\nCreating policies and procedural documentation.\\nInformation Services Liaison, T Aug 2005 to Aug 2007 \\nCompany Name ï¼\\u200b City , State\\nTroubleshooting hardware and software problems over the telephone and through remote PC administration software.\\nInstalling, configuring, and supporting McAfee anti-virus software on desktops.\\nInstalling, configuring, and supporting BBars computer backup software.\\nDeveloping and maintaining websites on servers running Microsoft SharePoint Server and Internet Information Services (IIS).\\nSupporting Systems Management Server (SMS)\\nTroubleshooting LAN, WAN, Internet, and Intranet network and security access.\\nTroubleshooting network connectivity issues related to TCP/IP, Domain Name Service (DNS), Dynamic Host Configuration Protocol\\n(DHCP) protocols, Internet Security and Acceleration (ISA) proxy server, and VPN.\\nTroubleshooting web application/page issues, client browsers, and related software.\\nAdministering and maintaining of end user accounts, permissions, and access rights in in Microsoft Active Directory.\\nAdministering and maintaining of NTFS security permissions on the file servers.\\nInstalling, configuring, and maintaining hardware such as: servers, workstations, laptops, printers, and scanners in a Windows Enterprise\\nenvironment.\\nInstalling, configuring, and supporting printers on the print servers.\\nInstalling, configuring, and supporting Microsoft Windows Server 2000 and 2003, Microsoft Windows XP and Windows Vista, and\\nMicrosoft Office XP, 2003, and 2007.\\nEducation\\nBachelor of Science , Information Technology 2005 Florida International Univeristy ï¼\\u200b City , State , United States\\nCoursework in Programming, Web Administration, Network Administration, Database Administration, and Systems Administration â€“\\nLinux\\nProgramming Languages: C++, Java, JSP, HTML, CSS, VB.Net, Bash, T-SQL\\nCertifications\\nCompTIA Network+ - 2014\\nSkills\\nActive Directory, Azure, anti-virus, Backup Exec, backup, Bash, batch, Cacti, Cisco ASA, databases, DHCP, DNS, documentation,\\nDataDomain, EMC, Enterprise Vault, ePO, file servers, firewall, GPO, HTML, IIS, ISA, LDAP, Linux, McAfee, Exchange, Microsoft Office,\\nMicrosoft Windows, security, policies, PowerShell, programming, proxy server, servers, scripts, SolarWinds, SQL, StorSimple, troubleshooting,\\nTMG, Ubuntu, Visual Basic Script, VBS, Veritas Netbackup, VPN, VRanger, Veeam, VMWare, VDI, virtual manchine, NMap, ZenMap.\\n\",\n",
              " \"WORKING RF SYSTEMS ENGINEER\\nQualifications\\nMicrosoft office/Office for Mac, pages, numbers, keynote Â· RF/Microwave software: Ansoft Designer, AWR Microwave Office. Â· RF test\\ninstruments: Spectrum analyzer, Vector Network/Signal Analyzer, Logic Analyzer, etc. Â· Programming language: C/C++, Python, Java,\\nMatlab, and LabView Â· Circuit design software: SPICE, NI Multisim Â· PCB design software: Eagle, PCB Artiest\\nExperience\\nWorking RF Systems Engineer \\nMay 2014 to Current Company Name\\nQualification Â· Multidisciplinary background: RF hardware designs, manufacturing operations and data analyst.\\nSummary Â· Experienced in developing hardware's DFM procedures, checklists and requirements to subcontractors Â· Perform EVT,\\nDVT, PVT verifications and utilize FA process to drive root cause from system to unit level Â· Team leader on multiple end-to-end\\ntechnical project design, development, testing and validation Â· Manage Test/Production readiness reviews and drives quality requirement\\nfor post-ramp qualification Â· Ability to manage multiple projects simultaneously, self-starter with innovation and sharp attention to details\\nExperiences - New RF systems introduction on satellite communication architecture designs and proposals - Define RF hardware unit DFM\\nprocedures and requirements for Antenna, receivers, filters, and amplifiers - Lead suppliers by providing technical design specifications and\\ntesting requirements to meet SSL standards - Utilize FA process to monitor overall project field performance.\\nAudits and DFM reviews on-site with suppliers - Investigated the algorithm to optimize the overall RF system performance for design,\\nmanufacturing and testing - Perform EVT, DVT and PVT validations and quality measurements for satellite assembly at system and unit\\nlevels - Drive and track closure on any RF components and modules NCs and issues impact to production readiness - Work with cross-\\nfunctional teams to execute completion of satellite system design to fulfill contract requirement - Generate cascade RF performance\\nprediction analyses (i.e.\\nNF, Gain, IP3, 1dB-Comp, spurious, etc) - Exercises independent judgment in developing methods, techniques, and evaluation criterion for\\nobtaining results - Monitor and measure manufacturing processes to reduce losses, decrease time span and improve quality.\\nSystem Data Analyst \\nAugust 2011 to December 2013 Company Name\\nPrioritize and extract big data from Purdue University's SQL database and maintain its accuracy and completeness - Develop and\\nimplement data collection systems strategies that optimize statistical efficiency and data quality - Data manipulation language SQL\\ncommands and utilize statistical tools including Excel, SAS, and SPSS.\\nCreate complex charts and temporarily databases, perform data mining, and develop pivot tables for publication - Design and customize\\nreports based upon data structure and determine additional data collection requirements - Provide documentation based on audit and report\\ncriteria to investigators and research staff - Serve as a resource for non-routine inquiries such as requests for statistics or surveys.\\nElectrical/Validation Engineer \\nMay 2011 to August 2011 Company Name\\nDevelop and maintain data requirement for PCBA EVT, DVT, and PVT assembly for touch-pads - Design and implement automated test\\nfor sensitivity, packrat, hovering, profiles, ripple, GSM, EMI, and ESD - Monitor manufacturer IC packaging test yields and field return\\nfailure data to identify root cause - Develop in-depth reliability testing procedures: storage, thermal stock, drop and tap tests - Perform\\ndebug and troubleshooting of product in house and at contract manufacturer site for support - Contribute in manufacturing diagnostic\\nreviews to improve overall debug process more efficiently and effectively - Support internal and external customer related to lab data\\ncollection and verification of an application issue.\\nEducation\\nM.S : Electrical and Computer Engineering , Dec. 2013 PURDUE UNIVERSITY GPA: GPA: 3.9/4.0 Electrical and Computer Engineering GPA:\\n3.9/4.0\\nB.S : Electrical and Computer Engineering , Dec. 2011 GPA: GPA: 3.2/4.0 Electrical and Computer Engineering GPA: 3.2/4.0 Thesis The Design\\nand Evaluation of a 5.8 GHz Laptop-Based Radar System Publication Â· Innovative laptop radar design to operate in both FMCW and CW\\nmode Â· Doppler shift (DTI), ranging (RTI), and SAR measurement capability Â· Operate in ISM frequency band with +13dBm transmitting\\npower Â· Data acquisition and signal processing using Matlab\\nSkills\\nbig data, C, C++, charts, Circuit design, hardware, Data acquisition, data analyst, data collection, data mining, databases, database, dBm, DTI,\\ndesign software, documentation, functional, GSM, innovation, Java, LabView, Team leader, Logic Analyzer, Mac, manufacturing processes,\\nMatlab, Excel, Microsoft office, Office, Microwave, Radar, NCs, Network, dB, packaging, pivot tables, Programming, project design, proposals,\\nPublication, Python, quality, requirement, research, SAS, self-starter, Spectrum analyzer, SPSS, SQL, SSL, statistics, surveys, system design,\\ntroubleshooting, validation\\n\",\n",
              " \"INFORMATION TECHNOLOGY TECHNICIAN I\\nSummary\\nVersatile Systems Administrator possessing superior troubleshooting skills for networking issues, end user problems, and network security.\\nExperienced in server management, systems analysis, and offering in-depth understanding of IT infrastructure areas. Detail-oriented, independent,\\nand focused on taking a systematic approach to solving complex problems. Demonstrated exceptional technical knowledge and skills while\\nworking with various teams to achieve shared goals and objectives.\\nHighlights\\nActive Directory\\nGroup Policy Objects\\nPowerShell and VBScript\\nMicrosoft Exchange\\nVMWare experience\\nNew technology and product research\\nOffice 365 and Azure\\nStorage management\\nEnterprise backup management\\nDisaster recovery\\nExperience\\nInformation Technology Technician I Aug 2007 to Current \\nCompany Name ï¼\\u200b City , State\\nMigrating and managing user accounts in Microsoft Office 365 and Exchange Online.\\nCreating and managing virtual machines for systems such as domain controllers and Active Directory Federation Services (ADFS) in\\nMicrosoft Windows Azure (IaaS).\\nCreating and managing storage in Microsoft Windows Azure (IaaS).\\nInstalling and configuring StorSimple iSCSI cloud array (STaaS/BaaS).\\nInstalling, configuring, and testing Twinstrata iSCSI cloud array (STaaS/BaaS).\\nCollaborating on project plan for Office 365 migration.\\nDeveloping detailed specifications for the Office 365 migration, including business-case documentation, cost benefit analyses, technical\\ndiagrams, and work flow documentation.\\nReceived training in MVC 4 for Visual Studio using .Net Framework 4/4.5 to develop application using HTML5 and CSS3.\\nInstalling, configuring, and supporting Linux machines for the open Wi-Fi network project.\\nCompiling and generating statistical information concerning wireless network traffic using Cacti.\\nConfiguring wireless LAN router networking and security access.\\nInstalling and configuring wireless certificates.\\nDeveloping detailed specifications for the acquisition of an Enterprise backup system including systems design, business-case\\ndocumentation, cost benefit analysis, technical diagrams, and work flow documentation.\\nReviewing, evaluating, and analyzing departmental policies, guidelines, procedures, and standards with management and staff.\\nDeveloping test scripts for acceptance, unit, and system testing of Hyperion Phase 1 and MiamiBiz Phase 2.\\nDeveloping Quality Assurance and testing plan for Hyperion Phase 1 and MiamiBiz Phase 2.\\nDebugging and logging of errors in Hyperion and MiamiBiz using Team Foundation Server (TFS).\\nParticipated in various phases of the project life cycle such as: determining requirements, design conceptualization, testing, implementation,\\ndeployment, and release for the Hyperion and MiamiBiz projects.\\nCollaborating on project plans for Hyperion and MiamiBiz.\\nPreparing presentations and documentation to demonstrate Hyperion and MiamiBiz functionality or design.\\nMonitoring network traffic, and compiling and generating statistical information using Solar Winds.\\nCollaborating on Disaster Recovery plan and procedures.\\nResearching, evaluating, and recommending new hardware and new software.\\nCommunicating and defining systems design and requirements for new and existing systems and applications.\\nResearching, evaluating, recommending, testing, and implementing third party software/utilities.\\nPlanning and designing network infrastructure changes â€“ adding/removing servers, appliances, network logical flow.\\nReviewing, evaluating, and analyzing existing system and application viability with management and staff.\\nAdministering and maintaining shares on the file servers.\\nReviewing server logs to troubleshoot issues.\\nScheduling and applying hot fixes and security patches on the server infrastructure which includes the operating system and application\\nsoftware.\\nReviewing systems reporting in SCCM (System Center Configuration Manager).\\nResolving service requests escalated by the Help Desk or other technicians.\\nTroubleshooting and analyzing and system problems for root cause analysis.\\nGiving and participating in training and education programs to explain upgrades to end users.\\nMigrating users' documents from local computer storage to shares on the file servers.\\nConfiguring, supporting, and maintaining file shares using Distributed File System (DFS)\\nManaging, implementing, and testing Enterprise backup infrastructure systems such as the Symantec Veritas Netbackup, Symantec Backup\\nExec System Recovery/Livestate, and VRanger backup servers.\\nManaging, configuring, and supporting DataDomain storage.\\nConfiguring and supporting Microsoft Windows Server 2003, 2008, and 2012.\\nInstalling, configuring, and supporting Microsoft Windows 7, Windows 8, and Microsoft Office 2007, 2010, and 2013.\\n\",\n",
              " \"INFORMATION TECHNOLOGY TECHNICIAN I\\nSummary\\nVersatile Systems Administrator possessing superior troubleshooting skills for networking issues, end user problems, and network security.\\nExperienced in server management, systems analysis, and offering in-depth understanding of IT infrastructure areas. Detail-oriented, independent,\\nand focused on taking a systematic approach to solving complex problems. Demonstrated exceptional technical knowledge and skills while\\nworking with various teams to achieve shared goals and objectives.\\nHighlights\\nActive Directory\\nGroup Policy Objects\\nPowerShell and VBScript\\nMicrosoft Exchange\\nVMWare experience\\nNew technology and product research\\nOffice 365 and Azure\\nStorage management\\nEnterprise backup management\\nDisaster recovery\\nExperience\\nInformation Technology Technician I Aug 2007 to Current \\nCompany Name ï¼\\u200b City , State\\nMigrating and managing user accounts in Microsoft Office 365 and Exchange Online.\\nCreating and managing virtual machines for systems such as domain controllers and Active Directory Federation Services (ADFS) in\\nMicrosoft Windows Azure (IaaS).\\nCreating and managing storage in Microsoft Windows Azure (IaaS).\\nInstalling and configuring StorSimple iSCSI cloud array (STaaS/BaaS).\\nInstalling, configuring, and testing Twinstrata iSCSI cloud array (STaaS/BaaS).\\nCollaborating on project plan for Office 365 migration.\\nDeveloping detailed specifications for the Office 365 migration, including business-case documentation, cost benefit analyses, technical\\ndiagrams, and work flow documentation.\\nReceived training in MVC 4 for Visual Studio using .Net Framework 4/4.5 to develop application using HTML5 and CSS3.\\nInstalling, configuring, and supporting Linux machines for the open Wi-Fi network project.\\nCompiling and generating statistical information concerning wireless network traffic using Cacti.\\nConfiguring wireless LAN router networking and security access.\\nInstalling and configuring wireless certificates.\\nDeveloping detailed specifications for the acquisition of an Enterprise backup system including systems design, business-case\\ndocumentation, cost benefit analysis, technical diagrams, and work flow documentation.\\nReviewing, evaluating, and analyzing departmental policies, guidelines, procedures, and standards with management and staff.\\nDeveloping test scripts for acceptance, unit, and system testing of Hyperion Phase 1 and MiamiBiz Phase 2.\\nDeveloping Quality Assurance and testing plan for Hyperion Phase 1 and MiamiBiz Phase 2.\\nDebugging and logging of errors in Hyperion and MiamiBiz using Team Foundation Server (TFS).\\nParticipated in various phases of the project life cycle such as: determining requirements, design conceptualization, testing, implementation,\\ndeployment, and release for the Hyperion and MiamiBiz projects.\\nCollaborating on project plans for Hyperion and MiamiBiz.\\nPreparing presentations and documentation to demonstrate Hyperion and MiamiBiz functionality or design.\\nMonitoring network traffic, and compiling and generating statistical information using Solar Winds.\\nCollaborating on Disaster Recovery plan and procedures.\\nResearching, evaluating, and recommending new hardware and new software.\\nCommunicating and defining systems design and requirements for new and existing systems and applications.\\nResearching, evaluating, recommending, testing, and implementing third party software/utilities.\\nPlanning and designing network infrastructure changes â€“ adding/removing servers, appliances, network logical flow.\\nReviewing, evaluating, and analyzing existing system and application viability with management and staff.\\nAdministering and maintaining shares on the file servers.\\nReviewing server logs to troubleshoot issues.\\nScheduling and applying hot fixes and security patches on the server infrastructure which includes the operating system and application\\nsoftware.\\nReviewing systems reporting in SCCM (System Center Configuration Manager).\\nResolving service requests escalated by the Help Desk or other technicians.\\nTroubleshooting and analyzing and system problems for root cause analysis.\\nGiving and participating in training and education programs to explain upgrades to end users.\\nMigrating users' documents from local computer storage to shares on the file servers.\\nConfiguring, supporting, and maintaining file shares using Distributed File System (DFS)\\nManaging, implementing, and testing Enterprise backup infrastructure systems such as the Symantec Veritas Netbackup, Symantec Backup\\nExec System Recovery/Livestate, and VRanger backup servers.\\nManaging, configuring, and supporting DataDomain storage.\\nConfiguring and supporting Microsoft Windows Server 2003, 2008, and 2012.\\nInstalling, configuring, and supporting Microsoft Windows 7, Windows 8, and Microsoft Office 2007, 2010, and 2013.\\nInstalling, configuring, and supporting McAfee anti-virus software on servers.\\nMigrating Exchange infrastructure from Exchange 2003 to Exchange 2007 and from Exchange 2007 to Exchange 2010.\\nSupporting servers in the virtualization infrastructure using VMware vSphere.\\nInstalling, configuring, and testing Veeam virtual machine backup software and Virtual Desktop Infrastructure (VDI).\\nReviewing systems reporting in System Center Configuration Manager (SCCM).\\nAdministering and maintaining the Symantec Enterprise Vault servers.\\nManaging the Active Directory Domain Controllers (DCs).\\nCreating and maintaining Group Policy Objects (GPOs) in Microsoft Active Directory.\\nConfiguring and supporting Microsoft Exchange Active Sync on devices with Apple iOS and Android mobile operating systems.\\nConfiguring and supporting Blackberry devices on the Blackberry Enterprise Server to receive Exchange email.\\nDeveloping, testing, designing, and implementing application scripts using languages such as command batch files, Visual Basic Script, and\\nPowerShell.\\nCreating policies and procedural documentation.\\nInformation Services Liaison, T Aug 2005 to Aug 2007 \\nCompany Name ï¼\\u200b City , State\\nTroubleshooting hardware and software problems over the telephone and through remote PC administration software.\\nInstalling, configuring, and supporting McAfee anti-virus software on desktops.\\nInstalling, configuring, and supporting BBars computer backup software.\\nDeveloping and maintaining websites on servers running Microsoft SharePoint Server and Internet Information Services (IIS).\\nSupporting Systems Management Server (SMS)\\nTroubleshooting LAN, WAN, Internet, and Intranet network and security access.\\nTroubleshooting network connectivity issues related to TCP/IP, Domain Name Service (DNS), Dynamic Host Configuration Protocol\\n(DHCP) protocols, Internet Security and Acceleration (ISA) proxy server, and VPN.\\nTroubleshooting web application/page issues, client browsers, and related software.\\nAdministering and maintaining of end user accounts, permissions, and access rights in in Microsoft Active Directory.\\nAdministering and maintaining of NTFS security permissions on the file servers.\\nInstalling, configuring, and maintaining hardware such as: servers, workstations, laptops, printers, and scanners in a Windows Enterprise\\nenvironment.\\nInstalling, configuring, and supporting printers on the print servers.\\nInstalling, configuring, and supporting Microsoft Windows Server 2000 and 2003, Microsoft Windows XP and Windows Vista, and\\nMicrosoft Office XP, 2003, and 2007.\\nEducation\\nBachelor of Science , Information Technology 2005 Florida International Univeristy ï¼\\u200b City , State , United States\\nCoursework in Programming, Web Administration, Network Administration, Database Administration, and Systems Administration â€“\\nLinux\\nProgramming Languages: C++, Java, JSP, HTML, CSS, VB.Net, Bash, T-SQL\\nCertifications\\nCompTIA Network+ - 2014\\nSkills\\nActive Directory, Azure, anti-virus, Backup Exec, backup, Bash, batch, Cacti, Cisco ASA, databases, DHCP, DNS, documentation,\\nDataDomain, EMC, Enterprise Vault, ePO, file servers, firewall, GPO, HTML, IIS, ISA, LDAP, Linux, McAfee, Exchange, Microsoft Office,\\nMicrosoft Windows, security, policies, PowerShell, programming, proxy server, servers, scripts, SolarWinds, SQL, StorSimple, troubleshooting,\\nTMG, Ubuntu, Visual Basic Script, VBS, Veritas Netbackup, VPN, VRanger, Veeam, VMWare, VDI, virtual manchine, NMap, ZenMap.\\n\"]"
            ]
          },
          "metadata": {},
          "execution_count": 12
        }
      ]
    },
    {
      "cell_type": "code",
      "source": [
        "# Assuming 'generate' is defined elsewhere\n",
        "result = generate(f\"I would like you to create an advertisement for a new position based on the profiles of the candidates summarized in cv_data. The criteria should be about education, skills, work experience. \")\n",
        "print(result)"
      ],
      "metadata": {
        "colab": {
          "base_uri": "https://localhost:8080/"
        },
        "id": "rq_HvEnMroOQ",
        "outputId": "7e13699e-7aa9-49e0-e762-2aa85da8a5a7"
      },
      "execution_count": 14,
      "outputs": [
        {
          "output_type": "stream",
          "name": "stderr",
          "text": [
            "Setting `pad_token_id` to `eos_token_id`:128001 for open-end generation.\n"
          ]
        },
        {
          "output_type": "stream",
          "name": "stdout",
          "text": [
            "Based on the provided data, I'll create an advertisement for a new position.\n",
            "\n",
            "**Job Title:** Data Analyst\n",
            "\n",
            "**Job Description:**\n",
            "\n",
            "We're seeking a skilled Data Analyst to join our team. The ideal candidate will have:\n",
            "\n",
            "- **Education:** Bachelor's or Master's degree in Computer Science, Data Science, or related field.\n",
            "- **Skills:** Proficiency in Python, SQL, and data visualization tools (e.g., Tableau, Power BI).\n",
            "- **Work Experience:** 2+ years of experience in data analysis, preferably in a business or finance setting.\n",
            "\n",
            "**Responsibilities:**\n",
            "\n",
            "- Analyze and interpret complex data sets.\n",
            "- Develop and maintain databases.\n",
            "- Create data visualizations to inform business decisions.\n",
            "\n",
            "**What We Offer:**\n",
            "\n",
            "- Competitive salary and benefits package.\n",
            "- Opportunities for professional growth and development.\n",
            "- Collaborative and dynamic work environment.\n",
            "\n",
            "**How to Apply:**\n",
            "\n",
            "If you're a motivated and detail-oriented individual with a passion for data analysis, please submit your application, including your resume and a cover letter, to [insert contact information].\n"
          ]
        }
      ]
    }
  ]
}