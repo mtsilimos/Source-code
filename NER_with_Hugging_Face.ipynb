{
  "nbformat": 4,
  "nbformat_minor": 0,
  "metadata": {
    "colab": {
      "provenance": [],
      "toc_visible": true,
      "authorship_tag": "ABX9TyN8d6NyVgorl2bNK9djFvHg",
      "include_colab_link": true
    },
    "kernelspec": {
      "name": "python3",
      "display_name": "Python 3"
    },
    "language_info": {
      "name": "python"
    }
  },
  "cells": [
    {
      "cell_type": "markdown",
      "metadata": {
        "id": "view-in-github",
        "colab_type": "text"
      },
      "source": [
        "<a href=\"https://colab.research.google.com/github/mtsilimos/Source-code/blob/main/NER_with_Hugging_Face.ipynb\" target=\"_parent\"><img src=\"https://colab.research.google.com/assets/colab-badge.svg\" alt=\"Open In Colab\"/></a>"
      ]
    },
    {
      "cell_type": "markdown",
      "source": [],
      "metadata": {
        "id": "XNoS_c9FC9tH"
      }
    },
    {
      "cell_type": "markdown",
      "source": [
        "**Named Entity Recognition on a single string**"
      ],
      "metadata": {
        "id": "-yGRwbkJDAOG"
      }
    },
    {
      "cell_type": "code",
      "source": [
        "from transformers import pipeline"
      ],
      "metadata": {
        "id": "gxv83VOuEb4E"
      },
      "execution_count": 11,
      "outputs": []
    },
    {
      "cell_type": "code",
      "source": [
        "entities = pipeline('ner')"
      ],
      "metadata": {
        "colab": {
          "base_uri": "https://localhost:8080/"
        },
        "id": "QKvVoMt2EgD-",
        "outputId": "58bc2bf5-a53a-4064-9d76-583a4a0fa4f8"
      },
      "execution_count": 12,
      "outputs": [
        {
          "output_type": "stream",
          "name": "stderr",
          "text": [
            "No model was supplied, defaulted to dbmdz/bert-large-cased-finetuned-conll03-english and revision 4c53496 (https://huggingface.co/dbmdz/bert-large-cased-finetuned-conll03-english).\n",
            "Using a pipeline without specifying a model name and revision in production is not recommended.\n",
            "Some weights of the model checkpoint at dbmdz/bert-large-cased-finetuned-conll03-english were not used when initializing BertForTokenClassification: ['bert.pooler.dense.bias', 'bert.pooler.dense.weight']\n",
            "- This IS expected if you are initializing BertForTokenClassification from the checkpoint of a model trained on another task or with another architecture (e.g. initializing a BertForSequenceClassification model from a BertForPreTraining model).\n",
            "- This IS NOT expected if you are initializing BertForTokenClassification from the checkpoint of a model that you expect to be exactly identical (initializing a BertForSequenceClassification model from a BertForSequenceClassification model).\n",
            "Device set to use cpu\n"
          ]
        }
      ]
    },
    {
      "cell_type": "code",
      "source": [
        "text = 'George lives in France and works for the company BMW.'"
      ],
      "metadata": {
        "id": "mtPaHkcUEijE"
      },
      "execution_count": 13,
      "outputs": []
    },
    {
      "cell_type": "code",
      "source": [
        "results = entities(text)"
      ],
      "metadata": {
        "id": "iz9ke0EOEmGm"
      },
      "execution_count": 14,
      "outputs": []
    },
    {
      "cell_type": "code",
      "source": [
        "results"
      ],
      "metadata": {
        "colab": {
          "base_uri": "https://localhost:8080/"
        },
        "id": "aa80dAqBEoi-",
        "outputId": "02bb6c48-9bae-4fce-df88-94b02a384985"
      },
      "execution_count": 15,
      "outputs": [
        {
          "output_type": "execute_result",
          "data": {
            "text/plain": [
              "[{'entity': 'I-PER',\n",
              "  'score': np.float32(0.9991566),\n",
              "  'index': 1,\n",
              "  'word': 'George',\n",
              "  'start': 0,\n",
              "  'end': 6},\n",
              " {'entity': 'I-LOC',\n",
              "  'score': np.float32(0.9998721),\n",
              "  'index': 4,\n",
              "  'word': 'France',\n",
              "  'start': 16,\n",
              "  'end': 22},\n",
              " {'entity': 'I-ORG',\n",
              "  'score': np.float32(0.99917716),\n",
              "  'index': 10,\n",
              "  'word': 'BMW',\n",
              "  'start': 49,\n",
              "  'end': 52}]"
            ]
          },
          "metadata": {},
          "execution_count": 15
        }
      ]
    },
    {
      "cell_type": "markdown",
      "source": [
        "**Named Entity Recognition on a list of strings**"
      ],
      "metadata": {
        "id": "bwOY0bg-DTct"
      }
    },
    {
      "cell_type": "code",
      "source": [
        "from transformers import pipeline"
      ],
      "metadata": {
        "id": "K-_2siOIDaRk"
      },
      "execution_count": 16,
      "outputs": []
    },
    {
      "cell_type": "code",
      "source": [
        "entities = pipeline('ner')"
      ],
      "metadata": {
        "colab": {
          "base_uri": "https://localhost:8080/"
        },
        "id": "LsFsV-XWEsN1",
        "outputId": "94e3457a-1741-4f1c-c62e-0353586ce691"
      },
      "execution_count": 17,
      "outputs": [
        {
          "output_type": "stream",
          "name": "stderr",
          "text": [
            "No model was supplied, defaulted to dbmdz/bert-large-cased-finetuned-conll03-english and revision 4c53496 (https://huggingface.co/dbmdz/bert-large-cased-finetuned-conll03-english).\n",
            "Using a pipeline without specifying a model name and revision in production is not recommended.\n",
            "Some weights of the model checkpoint at dbmdz/bert-large-cased-finetuned-conll03-english were not used when initializing BertForTokenClassification: ['bert.pooler.dense.bias', 'bert.pooler.dense.weight']\n",
            "- This IS expected if you are initializing BertForTokenClassification from the checkpoint of a model trained on another task or with another architecture (e.g. initializing a BertForSequenceClassification model from a BertForPreTraining model).\n",
            "- This IS NOT expected if you are initializing BertForTokenClassification from the checkpoint of a model that you expect to be exactly identical (initializing a BertForSequenceClassification model from a BertForSequenceClassification model).\n",
            "Device set to use cpu\n"
          ]
        }
      ]
    },
    {
      "cell_type": "code",
      "source": [
        "text = ['George works for the company BMW.', 'Lisa lives in London.', 'Nick lives and works in France.']"
      ],
      "metadata": {
        "id": "iqfNdoOoEudl"
      },
      "execution_count": 18,
      "outputs": []
    },
    {
      "cell_type": "code",
      "source": [
        "results = entities(text)"
      ],
      "metadata": {
        "id": "CeWhvd0rEvtA"
      },
      "execution_count": 19,
      "outputs": []
    },
    {
      "cell_type": "code",
      "source": [
        "results"
      ],
      "metadata": {
        "colab": {
          "base_uri": "https://localhost:8080/"
        },
        "id": "-xl9v3apEyGV",
        "outputId": "956a434a-4ded-4a5d-f053-430098d58e04"
      },
      "execution_count": 20,
      "outputs": [
        {
          "output_type": "execute_result",
          "data": {
            "text/plain": [
              "[[{'entity': 'I-PER',\n",
              "   'score': np.float32(0.9976426),\n",
              "   'index': 1,\n",
              "   'word': 'George',\n",
              "   'start': 0,\n",
              "   'end': 6},\n",
              "  {'entity': 'I-ORG',\n",
              "   'score': np.float32(0.99922585),\n",
              "   'index': 6,\n",
              "   'word': 'BMW',\n",
              "   'start': 29,\n",
              "   'end': 32}],\n",
              " [{'entity': 'I-PER',\n",
              "   'score': np.float32(0.9906819),\n",
              "   'index': 1,\n",
              "   'word': 'Lisa',\n",
              "   'start': 0,\n",
              "   'end': 4},\n",
              "  {'entity': 'I-LOC',\n",
              "   'score': np.float32(0.9982653),\n",
              "   'index': 4,\n",
              "   'word': 'London',\n",
              "   'start': 14,\n",
              "   'end': 20}],\n",
              " [{'entity': 'I-PER',\n",
              "   'score': np.float32(0.99520504),\n",
              "   'index': 1,\n",
              "   'word': 'Nick',\n",
              "   'start': 0,\n",
              "   'end': 4},\n",
              "  {'entity': 'I-LOC',\n",
              "   'score': np.float32(0.9998604),\n",
              "   'index': 6,\n",
              "   'word': 'France',\n",
              "   'start': 24,\n",
              "   'end': 30}]]"
            ]
          },
          "metadata": {},
          "execution_count": 20
        }
      ]
    }
  ]
}