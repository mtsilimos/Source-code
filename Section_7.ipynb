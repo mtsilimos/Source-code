{
  "nbformat": 4,
  "nbformat_minor": 0,
  "metadata": {
    "colab": {
      "provenance": [],
      "authorship_tag": "ABX9TyOR3QyxLVqG9iOkuzUEU8nM",
      "include_colab_link": true
    },
    "kernelspec": {
      "name": "python3",
      "display_name": "Python 3"
    },
    "language_info": {
      "name": "python"
    }
  },
  "cells": [
    {
      "cell_type": "markdown",
      "metadata": {
        "id": "view-in-github",
        "colab_type": "text"
      },
      "source": [
        "<a href=\"https://colab.research.google.com/github/mtsilimos/Source-code/blob/main/Section_7.ipynb\" target=\"_parent\"><img src=\"https://colab.research.google.com/assets/colab-badge.svg\" alt=\"Open In Colab\"/></a>"
      ]
    },
    {
      "cell_type": "code",
      "source": [
        "# SECTION 7\n",
        "\n",
        "# Download twitter samples from the NLTK library\n",
        "\n",
        "import nltk\n",
        "\n",
        "nltk.download('twitter_samples')\n",
        "\n",
        "from nltk.corpus import twitter_samples\n",
        "\n",
        "\n",
        "\n",
        "twitter_samples.fileids()"
      ],
      "metadata": {
        "id": "9H90KYB9z7z8"
      },
      "execution_count": null,
      "outputs": []
    },
    {
      "cell_type": "code",
      "source": [
        "# Access twitter samples\n",
        "\n",
        "twitter_samples.strings('positive_tweets.json')\n",
        "twitter_samples.strings('negative_tweets.json')\n",
        "twitter_samples.strings('tweets.20150430-223406.json')\n"
      ],
      "metadata": {
        "id": "r2wSLqsu0GPD"
      },
      "execution_count": null,
      "outputs": []
    },
    {
      "cell_type": "code",
      "source": [
        "# Length of positive_tweets, negative_tweets, text\n",
        "\n",
        "positive_tweets = twitter_samples.strings('positive_tweets.json')\n",
        "print(len(positive_tweets))\n",
        "\n",
        "negative_tweets = twitter_samples.strings('negative_tweets.json')\n",
        "print(len(negative_tweets))\n",
        "\n",
        "text = twitter_samples.strings('tweets.20150430-223406.json')\n",
        "print(len(text))\n"
      ],
      "metadata": {
        "id": "7_01z-DT0JXS"
      },
      "execution_count": null,
      "outputs": []
    },
    {
      "cell_type": "code",
      "source": [
        "# Access specific tweets\n",
        "\n",
        "positive_tweets[40]\n"
      ],
      "metadata": {
        "id": "WHtgvutE0Mcr"
      },
      "execution_count": null,
      "outputs": []
    },
    {
      "cell_type": "code",
      "source": [
        "# VADER\n",
        "\n",
        "nltk.download('vader_lexicon')\n",
        "\n",
        "import pandas as pd\n",
        "\n",
        "from nltk.sentiment.vader import SentimentIntensityAnalyzer\n",
        "\n",
        "analyzer = SentimentIntensityAnalyzer()\n"
      ],
      "metadata": {
        "id": "JcbjYTFc0RMP"
      },
      "execution_count": null,
      "outputs": []
    },
    {
      "cell_type": "code",
      "source": [
        "# Polarity scores\n",
        "\n",
        "analyzer.polarity_scores(positive_tweets[40])\n"
      ],
      "metadata": {
        "id": "JDQ6hzv-0Upf"
      },
      "execution_count": null,
      "outputs": []
    },
    {
      "cell_type": "code",
      "source": [
        "# Data Frame\n",
        "\n",
        "negative_tweets = twitter_samples.strings(\"negative_tweets.json\")\n",
        "labels = [1]*len(positive_tweets)\n",
        "negative_labels = [0]*len(negative_tweets)\n",
        "labels.extend(negative_labels)\n",
        "positive_tweets.extend(negative_tweets)\n",
        "df = pd.DataFrame({'tweets' : positive_tweets,'labels' : labels})\n",
        "df"
      ],
      "metadata": {
        "id": "LN5PgVma0Xv1"
      },
      "execution_count": null,
      "outputs": []
    },
    {
      "cell_type": "code",
      "source": [
        "df['neg'] = df['tweets'].apply(lambda x:analyzer.polarity_scores(x)['neg'])\n",
        "df['neu'] = df['tweets'].apply(lambda x:analyzer.polarity_scores(x)['neu'])\n",
        "df['pos'] = df['tweets'].apply(lambda x:analyzer.polarity_scores(x)['pos'])\n",
        "df['compound'] = df['tweets'].apply(lambda x:analyzer.polarity_scores(x)['compound'])\n",
        "df\n"
      ],
      "metadata": {
        "id": "rh8owKLa0aTB"
      },
      "execution_count": null,
      "outputs": []
    },
    {
      "cell_type": "code",
      "source": [
        "# Descriptive statistics\n",
        "\n",
        "df.groupby('labels')['compound'].describe()"
      ],
      "metadata": {
        "id": "YH4fhocQ0cfy"
      },
      "execution_count": null,
      "outputs": []
    },
    {
      "cell_type": "code",
      "source": [
        "# Boxplot\n",
        "\n",
        "df.boxplot(by='labels', column='compound', figsize=(12,8))\n"
      ],
      "metadata": {
        "id": "EsDrtcP30fKh"
      },
      "execution_count": null,
      "outputs": []
    }
  ]
}